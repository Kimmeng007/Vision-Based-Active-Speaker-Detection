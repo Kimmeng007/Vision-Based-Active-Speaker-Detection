{
  "cells": [
    {
      "cell_type": "code",
      "execution_count": 1,
      "metadata": {
        "colab": {
          "base_uri": "https://localhost:8080/"
        },
        "id": "KQvlvGeV__eq",
        "outputId": "cdddc789-1c00-4d9f-d13e-e429100b0f8a"
      },
      "outputs": [
        {
          "output_type": "stream",
          "name": "stdout",
          "text": [
            "Mounted at /content/drive\n"
          ]
        }
      ],
      "source": [
        "from google.colab import drive\n",
        "drive.mount('/content/drive')"
      ]
    },
    {
      "cell_type": "code",
      "execution_count": null,
      "metadata": {
        "colab": {
          "base_uri": "https://localhost:8080/"
        },
        "id": "1rJwbViCvJ9_",
        "outputId": "863677da-36e6-449a-eba4-a1eecf897ae6"
      },
      "outputs": [
        {
          "name": "stdout",
          "output_type": "stream",
          "text": [
            "Collecting yt_dlp\n",
            "  Downloading yt_dlp-2025.4.30-py3-none-any.whl.metadata (173 kB)\n",
            "\u001b[?25l     \u001b[90m━━━━━━━━━━━━━━━━━━━━━━━━━━━━━━━━━━━━━━━━\u001b[0m \u001b[32m0.0/173.3 kB\u001b[0m \u001b[31m?\u001b[0m eta \u001b[36m-:--:--\u001b[0m\r\u001b[2K     \u001b[91m━━━━━━━━━━━━━━━━━━━━━━━━━━━━━━━━━━━━\u001b[0m\u001b[91m╸\u001b[0m\u001b[90m━━\u001b[0m \u001b[32m163.8/173.3 kB\u001b[0m \u001b[31m5.0 MB/s\u001b[0m eta \u001b[36m0:00:01\u001b[0m\r\u001b[2K     \u001b[90m━━━━━━━━━━━━━━━━━━━━━━━━━━━━━━━━━━━━━━━\u001b[0m \u001b[32m173.3/173.3 kB\u001b[0m \u001b[31m3.4 MB/s\u001b[0m eta \u001b[36m0:00:00\u001b[0m\n",
            "\u001b[?25hDownloading yt_dlp-2025.4.30-py3-none-any.whl (3.2 MB)\n",
            "\u001b[2K   \u001b[90m━━━━━━━━━━━━━━━━━━━━━━━━━━━━━━━━━━━━━━━━\u001b[0m \u001b[32m3.2/3.2 MB\u001b[0m \u001b[31m43.5 MB/s\u001b[0m eta \u001b[36m0:00:00\u001b[0m\n",
            "\u001b[?25hInstalling collected packages: yt_dlp\n",
            "Successfully installed yt_dlp-2025.4.30\n"
          ]
        }
      ],
      "source": [
        "# !pip install yt_dlp"
      ]
    },
    {
      "cell_type": "code",
      "execution_count": 2,
      "metadata": {
        "id": "IW53rFUznOGg"
      },
      "outputs": [],
      "source": [
        "import os\n",
        "import pandas as pd\n",
        "from tqdm import tqdm\n",
        "import cv2\n",
        "import subprocess\n",
        "import requests\n",
        "import glob"
      ]
    },
    {
      "cell_type": "markdown",
      "metadata": {
        "id": "m40CVOdZR6ZE"
      },
      "source": [
        "### Combine CSV files"
      ]
    },
    {
      "cell_type": "code",
      "execution_count": null,
      "metadata": {
        "id": "m3DbRMucnNQS"
      },
      "outputs": [],
      "source": [
        "def load_annotations(folder_path):\n",
        "    all_data = []\n",
        "\n",
        "    for filename in tqdm(os.listdir(folder_path)):\n",
        "        if filename.endswith(\"-activespeaker.csv\"):\n",
        "            file_path = os.path.join(folder_path, filename)\n",
        "            video_id = filename.replace(\"-activespeaker.csv\", \"\")\n",
        "            df = pd.read_csv(file_path, header=None, sep=',')\n",
        "\n",
        "            df.columns = ['video_id', 'timestamp', 'x1', 'y1', 'x2', 'y2', 'label', 'entity_id']\n",
        "            df['video_file'] = video_id\n",
        "            all_data.append(df)\n",
        "\n",
        "    full_df = pd.concat(all_data, ignore_index=True)\n",
        "    return full_df\n"
      ]
    },
    {
      "cell_type": "code",
      "execution_count": null,
      "metadata": {
        "colab": {
          "base_uri": "https://localhost:8080/",
          "height": 241
        },
        "id": "MqAs_NBknQo0",
        "outputId": "75cfeba3-a3e0-4e69-9995-23581ff03b8f"
      },
      "outputs": [
        {
          "name": "stderr",
          "output_type": "stream",
          "text": [
            "100%|██████████| 120/120 [00:21<00:00,  5.47it/s]\n",
            "100%|██████████| 33/33 [00:13<00:00,  2.48it/s]\n"
          ]
        },
        {
          "data": {
            "application/vnd.google.colaboratory.intrinsic+json": {
              "type": "dataframe",
              "variable_name": "train_labels"
            },
            "text/html": [
              "\n",
              "  <div id=\"df-5c03ac9e-1c95-4cce-8f5b-c4df396a92c1\" class=\"colab-df-container\">\n",
              "    <div>\n",
              "<style scoped>\n",
              "    .dataframe tbody tr th:only-of-type {\n",
              "        vertical-align: middle;\n",
              "    }\n",
              "\n",
              "    .dataframe tbody tr th {\n",
              "        vertical-align: top;\n",
              "    }\n",
              "\n",
              "    .dataframe thead th {\n",
              "        text-align: right;\n",
              "    }\n",
              "</style>\n",
              "<table border=\"1\" class=\"dataframe\">\n",
              "  <thead>\n",
              "    <tr style=\"text-align: right;\">\n",
              "      <th></th>\n",
              "      <th>video_id</th>\n",
              "      <th>timestamp</th>\n",
              "      <th>x1</th>\n",
              "      <th>y1</th>\n",
              "      <th>x2</th>\n",
              "      <th>y2</th>\n",
              "      <th>label</th>\n",
              "      <th>entity_id</th>\n",
              "      <th>video_file</th>\n",
              "    </tr>\n",
              "  </thead>\n",
              "  <tbody>\n",
              "    <tr>\n",
              "      <th>0</th>\n",
              "      <td>20TAGRElvfE</td>\n",
              "      <td>1740.00</td>\n",
              "      <td>0.504016</td>\n",
              "      <td>0.183333</td>\n",
              "      <td>0.678715</td>\n",
              "      <td>0.463889</td>\n",
              "      <td>NOT_SPEAKING</td>\n",
              "      <td>20TAGRElvfE_1740_1800:1</td>\n",
              "      <td>20TAGRElvfE</td>\n",
              "    </tr>\n",
              "    <tr>\n",
              "      <th>1</th>\n",
              "      <td>20TAGRElvfE</td>\n",
              "      <td>1740.04</td>\n",
              "      <td>0.504016</td>\n",
              "      <td>0.183333</td>\n",
              "      <td>0.678715</td>\n",
              "      <td>0.463889</td>\n",
              "      <td>NOT_SPEAKING</td>\n",
              "      <td>20TAGRElvfE_1740_1800:1</td>\n",
              "      <td>20TAGRElvfE</td>\n",
              "    </tr>\n",
              "    <tr>\n",
              "      <th>2</th>\n",
              "      <td>20TAGRElvfE</td>\n",
              "      <td>1740.07</td>\n",
              "      <td>0.504016</td>\n",
              "      <td>0.180556</td>\n",
              "      <td>0.678715</td>\n",
              "      <td>0.463889</td>\n",
              "      <td>NOT_SPEAKING</td>\n",
              "      <td>20TAGRElvfE_1740_1800:1</td>\n",
              "      <td>20TAGRElvfE</td>\n",
              "    </tr>\n",
              "    <tr>\n",
              "      <th>3</th>\n",
              "      <td>20TAGRElvfE</td>\n",
              "      <td>1740.11</td>\n",
              "      <td>0.504016</td>\n",
              "      <td>0.183333</td>\n",
              "      <td>0.678715</td>\n",
              "      <td>0.463889</td>\n",
              "      <td>NOT_SPEAKING</td>\n",
              "      <td>20TAGRElvfE_1740_1800:1</td>\n",
              "      <td>20TAGRElvfE</td>\n",
              "    </tr>\n",
              "    <tr>\n",
              "      <th>4</th>\n",
              "      <td>20TAGRElvfE</td>\n",
              "      <td>1740.16</td>\n",
              "      <td>0.504016</td>\n",
              "      <td>0.183333</td>\n",
              "      <td>0.678715</td>\n",
              "      <td>0.463889</td>\n",
              "      <td>NOT_SPEAKING</td>\n",
              "      <td>20TAGRElvfE_1740_1800:1</td>\n",
              "      <td>20TAGRElvfE</td>\n",
              "    </tr>\n",
              "  </tbody>\n",
              "</table>\n",
              "</div>\n",
              "    <div class=\"colab-df-buttons\">\n",
              "\n",
              "  <div class=\"colab-df-container\">\n",
              "    <button class=\"colab-df-convert\" onclick=\"convertToInteractive('df-5c03ac9e-1c95-4cce-8f5b-c4df396a92c1')\"\n",
              "            title=\"Convert this dataframe to an interactive table.\"\n",
              "            style=\"display:none;\">\n",
              "\n",
              "  <svg xmlns=\"http://www.w3.org/2000/svg\" height=\"24px\" viewBox=\"0 -960 960 960\">\n",
              "    <path d=\"M120-120v-720h720v720H120Zm60-500h600v-160H180v160Zm220 220h160v-160H400v160Zm0 220h160v-160H400v160ZM180-400h160v-160H180v160Zm440 0h160v-160H620v160ZM180-180h160v-160H180v160Zm440 0h160v-160H620v160Z\"/>\n",
              "  </svg>\n",
              "    </button>\n",
              "\n",
              "  <style>\n",
              "    .colab-df-container {\n",
              "      display:flex;\n",
              "      gap: 12px;\n",
              "    }\n",
              "\n",
              "    .colab-df-convert {\n",
              "      background-color: #E8F0FE;\n",
              "      border: none;\n",
              "      border-radius: 50%;\n",
              "      cursor: pointer;\n",
              "      display: none;\n",
              "      fill: #1967D2;\n",
              "      height: 32px;\n",
              "      padding: 0 0 0 0;\n",
              "      width: 32px;\n",
              "    }\n",
              "\n",
              "    .colab-df-convert:hover {\n",
              "      background-color: #E2EBFA;\n",
              "      box-shadow: 0px 1px 2px rgba(60, 64, 67, 0.3), 0px 1px 3px 1px rgba(60, 64, 67, 0.15);\n",
              "      fill: #174EA6;\n",
              "    }\n",
              "\n",
              "    .colab-df-buttons div {\n",
              "      margin-bottom: 4px;\n",
              "    }\n",
              "\n",
              "    [theme=dark] .colab-df-convert {\n",
              "      background-color: #3B4455;\n",
              "      fill: #D2E3FC;\n",
              "    }\n",
              "\n",
              "    [theme=dark] .colab-df-convert:hover {\n",
              "      background-color: #434B5C;\n",
              "      box-shadow: 0px 1px 3px 1px rgba(0, 0, 0, 0.15);\n",
              "      filter: drop-shadow(0px 1px 2px rgba(0, 0, 0, 0.3));\n",
              "      fill: #FFFFFF;\n",
              "    }\n",
              "  </style>\n",
              "\n",
              "    <script>\n",
              "      const buttonEl =\n",
              "        document.querySelector('#df-5c03ac9e-1c95-4cce-8f5b-c4df396a92c1 button.colab-df-convert');\n",
              "      buttonEl.style.display =\n",
              "        google.colab.kernel.accessAllowed ? 'block' : 'none';\n",
              "\n",
              "      async function convertToInteractive(key) {\n",
              "        const element = document.querySelector('#df-5c03ac9e-1c95-4cce-8f5b-c4df396a92c1');\n",
              "        const dataTable =\n",
              "          await google.colab.kernel.invokeFunction('convertToInteractive',\n",
              "                                                    [key], {});\n",
              "        if (!dataTable) return;\n",
              "\n",
              "        const docLinkHtml = 'Like what you see? Visit the ' +\n",
              "          '<a target=\"_blank\" href=https://colab.research.google.com/notebooks/data_table.ipynb>data table notebook</a>'\n",
              "          + ' to learn more about interactive tables.';\n",
              "        element.innerHTML = '';\n",
              "        dataTable['output_type'] = 'display_data';\n",
              "        await google.colab.output.renderOutput(dataTable, element);\n",
              "        const docLink = document.createElement('div');\n",
              "        docLink.innerHTML = docLinkHtml;\n",
              "        element.appendChild(docLink);\n",
              "      }\n",
              "    </script>\n",
              "  </div>\n",
              "\n",
              "\n",
              "    <div id=\"df-f66b7229-dd71-4c03-a70f-9add0384c7bc\">\n",
              "      <button class=\"colab-df-quickchart\" onclick=\"quickchart('df-f66b7229-dd71-4c03-a70f-9add0384c7bc')\"\n",
              "                title=\"Suggest charts\"\n",
              "                style=\"display:none;\">\n",
              "\n",
              "<svg xmlns=\"http://www.w3.org/2000/svg\" height=\"24px\"viewBox=\"0 0 24 24\"\n",
              "     width=\"24px\">\n",
              "    <g>\n",
              "        <path d=\"M19 3H5c-1.1 0-2 .9-2 2v14c0 1.1.9 2 2 2h14c1.1 0 2-.9 2-2V5c0-1.1-.9-2-2-2zM9 17H7v-7h2v7zm4 0h-2V7h2v10zm4 0h-2v-4h2v4z\"/>\n",
              "    </g>\n",
              "</svg>\n",
              "      </button>\n",
              "\n",
              "<style>\n",
              "  .colab-df-quickchart {\n",
              "      --bg-color: #E8F0FE;\n",
              "      --fill-color: #1967D2;\n",
              "      --hover-bg-color: #E2EBFA;\n",
              "      --hover-fill-color: #174EA6;\n",
              "      --disabled-fill-color: #AAA;\n",
              "      --disabled-bg-color: #DDD;\n",
              "  }\n",
              "\n",
              "  [theme=dark] .colab-df-quickchart {\n",
              "      --bg-color: #3B4455;\n",
              "      --fill-color: #D2E3FC;\n",
              "      --hover-bg-color: #434B5C;\n",
              "      --hover-fill-color: #FFFFFF;\n",
              "      --disabled-bg-color: #3B4455;\n",
              "      --disabled-fill-color: #666;\n",
              "  }\n",
              "\n",
              "  .colab-df-quickchart {\n",
              "    background-color: var(--bg-color);\n",
              "    border: none;\n",
              "    border-radius: 50%;\n",
              "    cursor: pointer;\n",
              "    display: none;\n",
              "    fill: var(--fill-color);\n",
              "    height: 32px;\n",
              "    padding: 0;\n",
              "    width: 32px;\n",
              "  }\n",
              "\n",
              "  .colab-df-quickchart:hover {\n",
              "    background-color: var(--hover-bg-color);\n",
              "    box-shadow: 0 1px 2px rgba(60, 64, 67, 0.3), 0 1px 3px 1px rgba(60, 64, 67, 0.15);\n",
              "    fill: var(--button-hover-fill-color);\n",
              "  }\n",
              "\n",
              "  .colab-df-quickchart-complete:disabled,\n",
              "  .colab-df-quickchart-complete:disabled:hover {\n",
              "    background-color: var(--disabled-bg-color);\n",
              "    fill: var(--disabled-fill-color);\n",
              "    box-shadow: none;\n",
              "  }\n",
              "\n",
              "  .colab-df-spinner {\n",
              "    border: 2px solid var(--fill-color);\n",
              "    border-color: transparent;\n",
              "    border-bottom-color: var(--fill-color);\n",
              "    animation:\n",
              "      spin 1s steps(1) infinite;\n",
              "  }\n",
              "\n",
              "  @keyframes spin {\n",
              "    0% {\n",
              "      border-color: transparent;\n",
              "      border-bottom-color: var(--fill-color);\n",
              "      border-left-color: var(--fill-color);\n",
              "    }\n",
              "    20% {\n",
              "      border-color: transparent;\n",
              "      border-left-color: var(--fill-color);\n",
              "      border-top-color: var(--fill-color);\n",
              "    }\n",
              "    30% {\n",
              "      border-color: transparent;\n",
              "      border-left-color: var(--fill-color);\n",
              "      border-top-color: var(--fill-color);\n",
              "      border-right-color: var(--fill-color);\n",
              "    }\n",
              "    40% {\n",
              "      border-color: transparent;\n",
              "      border-right-color: var(--fill-color);\n",
              "      border-top-color: var(--fill-color);\n",
              "    }\n",
              "    60% {\n",
              "      border-color: transparent;\n",
              "      border-right-color: var(--fill-color);\n",
              "    }\n",
              "    80% {\n",
              "      border-color: transparent;\n",
              "      border-right-color: var(--fill-color);\n",
              "      border-bottom-color: var(--fill-color);\n",
              "    }\n",
              "    90% {\n",
              "      border-color: transparent;\n",
              "      border-bottom-color: var(--fill-color);\n",
              "    }\n",
              "  }\n",
              "</style>\n",
              "\n",
              "      <script>\n",
              "        async function quickchart(key) {\n",
              "          const quickchartButtonEl =\n",
              "            document.querySelector('#' + key + ' button');\n",
              "          quickchartButtonEl.disabled = true;  // To prevent multiple clicks.\n",
              "          quickchartButtonEl.classList.add('colab-df-spinner');\n",
              "          try {\n",
              "            const charts = await google.colab.kernel.invokeFunction(\n",
              "                'suggestCharts', [key], {});\n",
              "          } catch (error) {\n",
              "            console.error('Error during call to suggestCharts:', error);\n",
              "          }\n",
              "          quickchartButtonEl.classList.remove('colab-df-spinner');\n",
              "          quickchartButtonEl.classList.add('colab-df-quickchart-complete');\n",
              "        }\n",
              "        (() => {\n",
              "          let quickchartButtonEl =\n",
              "            document.querySelector('#df-f66b7229-dd71-4c03-a70f-9add0384c7bc button');\n",
              "          quickchartButtonEl.style.display =\n",
              "            google.colab.kernel.accessAllowed ? 'block' : 'none';\n",
              "        })();\n",
              "      </script>\n",
              "    </div>\n",
              "\n",
              "    </div>\n",
              "  </div>\n"
            ],
            "text/plain": [
              "      video_id  timestamp        x1        y1        x2        y2  \\\n",
              "0  20TAGRElvfE    1740.00  0.504016  0.183333  0.678715  0.463889   \n",
              "1  20TAGRElvfE    1740.04  0.504016  0.183333  0.678715  0.463889   \n",
              "2  20TAGRElvfE    1740.07  0.504016  0.180556  0.678715  0.463889   \n",
              "3  20TAGRElvfE    1740.11  0.504016  0.183333  0.678715  0.463889   \n",
              "4  20TAGRElvfE    1740.16  0.504016  0.183333  0.678715  0.463889   \n",
              "\n",
              "          label                entity_id   video_file  \n",
              "0  NOT_SPEAKING  20TAGRElvfE_1740_1800:1  20TAGRElvfE  \n",
              "1  NOT_SPEAKING  20TAGRElvfE_1740_1800:1  20TAGRElvfE  \n",
              "2  NOT_SPEAKING  20TAGRElvfE_1740_1800:1  20TAGRElvfE  \n",
              "3  NOT_SPEAKING  20TAGRElvfE_1740_1800:1  20TAGRElvfE  \n",
              "4  NOT_SPEAKING  20TAGRElvfE_1740_1800:1  20TAGRElvfE  "
            ]
          },
          "execution_count": 4,
          "metadata": {},
          "output_type": "execute_result"
        }
      ],
      "source": [
        "dir = '/content/drive/MyDrive/aifarm/centerstage'\n",
        "train_labels = load_annotations(f\"{dir}/data/raw/label_train\")\n",
        "test_labels = load_annotations(f\"{dir}/data/raw/label_test\")\n",
        "\n",
        "train_labels.head()"
      ]
    },
    {
      "cell_type": "code",
      "execution_count": null,
      "metadata": {
        "colab": {
          "base_uri": "https://localhost:8080/"
        },
        "id": "BEvyV3uJplpR",
        "outputId": "2bcdc355-1815-4db6-9d12-285fa115fbb2"
      },
      "outputs": [
        {
          "data": {
            "text/plain": [
              "(2676314, 9)"
            ]
          },
          "execution_count": 5,
          "metadata": {},
          "output_type": "execute_result"
        }
      ],
      "source": [
        "train_labels.shape"
      ]
    },
    {
      "cell_type": "code",
      "execution_count": null,
      "metadata": {
        "colab": {
          "base_uri": "https://localhost:8080/"
        },
        "id": "EaUhya16pqDQ",
        "outputId": "485f3cb1-3fd6-42a7-89fb-e80d8793743c"
      },
      "outputs": [
        {
          "data": {
            "text/plain": [
              "(768307, 9)"
            ]
          },
          "execution_count": 6,
          "metadata": {},
          "output_type": "execute_result"
        }
      ],
      "source": [
        "test_labels.shape"
      ]
    },
    {
      "cell_type": "code",
      "execution_count": null,
      "metadata": {
        "colab": {
          "base_uri": "https://localhost:8080/",
          "height": 209
        },
        "id": "jmdDzDODsONU",
        "outputId": "e6f3cf18-6f10-49c4-8c29-d75153fa9bb8"
      },
      "outputs": [
        {
          "data": {
            "text/html": [
              "<div>\n",
              "<style scoped>\n",
              "    .dataframe tbody tr th:only-of-type {\n",
              "        vertical-align: middle;\n",
              "    }\n",
              "\n",
              "    .dataframe tbody tr th {\n",
              "        vertical-align: top;\n",
              "    }\n",
              "\n",
              "    .dataframe thead th {\n",
              "        text-align: right;\n",
              "    }\n",
              "</style>\n",
              "<table border=\"1\" class=\"dataframe\">\n",
              "  <thead>\n",
              "    <tr style=\"text-align: right;\">\n",
              "      <th></th>\n",
              "      <th>count</th>\n",
              "    </tr>\n",
              "    <tr>\n",
              "      <th>label</th>\n",
              "      <th></th>\n",
              "    </tr>\n",
              "  </thead>\n",
              "  <tbody>\n",
              "    <tr>\n",
              "      <th>NOT_SPEAKING</th>\n",
              "      <td>1969134</td>\n",
              "    </tr>\n",
              "    <tr>\n",
              "      <th>SPEAKING_AUDIBLE</th>\n",
              "      <td>682404</td>\n",
              "    </tr>\n",
              "    <tr>\n",
              "      <th>SPEAKING_NOT_AUDIBLE</th>\n",
              "      <td>24776</td>\n",
              "    </tr>\n",
              "  </tbody>\n",
              "</table>\n",
              "</div><br><label><b>dtype:</b> int64</label>"
            ],
            "text/plain": [
              "label\n",
              "NOT_SPEAKING            1969134\n",
              "SPEAKING_AUDIBLE         682404\n",
              "SPEAKING_NOT_AUDIBLE      24776\n",
              "Name: count, dtype: int64"
            ]
          },
          "execution_count": 7,
          "metadata": {},
          "output_type": "execute_result"
        }
      ],
      "source": [
        "train_labels['label'].value_counts()"
      ]
    },
    {
      "cell_type": "markdown",
      "metadata": {
        "id": "5HKWVlM-s1PD"
      },
      "source": [
        "Since our system is vision-only (no audio), the distinction between audible and inaudible isn't something the model can directly observe. So we treat both speaking cases as speaking"
      ]
    },
    {
      "cell_type": "code",
      "execution_count": null,
      "metadata": {
        "id": "z1ANKdsWq0I9"
      },
      "outputs": [],
      "source": [
        "filtered_df = train_labels[train_labels['label'].isin(['SPEAKING_AUDIBLE', 'SPEAKING_NOT_AUDIBLE', 'NOT_SPEAKING'])]\n",
        "\n",
        "filtered_df['binary_label'] = filtered_df['label'].apply(\n",
        "    lambda x: 1 if x in ['SPEAKING_AUDIBLE', 'SPEAKING_NOT_AUDIBLE'] else 0\n",
        ")"
      ]
    },
    {
      "cell_type": "code",
      "execution_count": null,
      "metadata": {
        "colab": {
          "base_uri": "https://localhost:8080/"
        },
        "id": "fMriIyhhq0Pz",
        "outputId": "f7784e14-19c3-4f4b-8a30-7739a9300138"
      },
      "outputs": [
        {
          "name": "stdout",
          "output_type": "stream",
          "text": [
            "binary_label\n",
            "0    1969134\n",
            "1     707180\n",
            "Name: count, dtype: int64\n"
          ]
        }
      ],
      "source": [
        "# Check Distribution\n",
        "print(filtered_df['binary_label'].value_counts())"
      ]
    },
    {
      "cell_type": "code",
      "execution_count": null,
      "metadata": {
        "id": "8h4oM2rWzi4q"
      },
      "outputs": [],
      "source": [
        "BASE_DIR = '/content/drive/MyDrive/aifarm/centerstage'\n",
        "os.makedirs(os.path.join(BASE_DIR, \"data/processed\"), exist_ok=True)\n",
        "\n",
        "filtered_df.to_csv(f\"{BASE_DIR}/data/processed/train_labels_clean.csv\", index=False)\n",
        "test_labels.to_csv(f\"{BASE_DIR}/data/processed/test_labels_clean.csv\", index=False)"
      ]
    },
    {
      "cell_type": "code",
      "execution_count": null,
      "metadata": {
        "colab": {
          "base_uri": "https://localhost:8080/",
          "height": 423
        },
        "id": "qp6nLNZ6G_1I",
        "outputId": "f50a2d89-bd67-41d7-833f-5f4ca05ec353"
      },
      "outputs": [
        {
          "data": {
            "application/vnd.google.colaboratory.intrinsic+json": {
              "type": "dataframe",
              "variable_name": "filtered_df"
            },
            "text/html": [
              "\n",
              "  <div id=\"df-9666303b-144c-4ca3-90d1-1006119225a1\" class=\"colab-df-container\">\n",
              "    <div>\n",
              "<style scoped>\n",
              "    .dataframe tbody tr th:only-of-type {\n",
              "        vertical-align: middle;\n",
              "    }\n",
              "\n",
              "    .dataframe tbody tr th {\n",
              "        vertical-align: top;\n",
              "    }\n",
              "\n",
              "    .dataframe thead th {\n",
              "        text-align: right;\n",
              "    }\n",
              "</style>\n",
              "<table border=\"1\" class=\"dataframe\">\n",
              "  <thead>\n",
              "    <tr style=\"text-align: right;\">\n",
              "      <th></th>\n",
              "      <th>video_id</th>\n",
              "      <th>timestamp</th>\n",
              "      <th>x1</th>\n",
              "      <th>y1</th>\n",
              "      <th>x2</th>\n",
              "      <th>y2</th>\n",
              "      <th>label</th>\n",
              "      <th>entity_id</th>\n",
              "      <th>video_file</th>\n",
              "      <th>binary_label</th>\n",
              "    </tr>\n",
              "  </thead>\n",
              "  <tbody>\n",
              "    <tr>\n",
              "      <th>0</th>\n",
              "      <td>20TAGRElvfE</td>\n",
              "      <td>1740.00</td>\n",
              "      <td>0.504016</td>\n",
              "      <td>0.183333</td>\n",
              "      <td>0.678715</td>\n",
              "      <td>0.463889</td>\n",
              "      <td>NOT_SPEAKING</td>\n",
              "      <td>20TAGRElvfE_1740_1800:1</td>\n",
              "      <td>20TAGRElvfE</td>\n",
              "      <td>0</td>\n",
              "    </tr>\n",
              "    <tr>\n",
              "      <th>1</th>\n",
              "      <td>20TAGRElvfE</td>\n",
              "      <td>1740.04</td>\n",
              "      <td>0.504016</td>\n",
              "      <td>0.183333</td>\n",
              "      <td>0.678715</td>\n",
              "      <td>0.463889</td>\n",
              "      <td>NOT_SPEAKING</td>\n",
              "      <td>20TAGRElvfE_1740_1800:1</td>\n",
              "      <td>20TAGRElvfE</td>\n",
              "      <td>0</td>\n",
              "    </tr>\n",
              "    <tr>\n",
              "      <th>2</th>\n",
              "      <td>20TAGRElvfE</td>\n",
              "      <td>1740.07</td>\n",
              "      <td>0.504016</td>\n",
              "      <td>0.180556</td>\n",
              "      <td>0.678715</td>\n",
              "      <td>0.463889</td>\n",
              "      <td>NOT_SPEAKING</td>\n",
              "      <td>20TAGRElvfE_1740_1800:1</td>\n",
              "      <td>20TAGRElvfE</td>\n",
              "      <td>0</td>\n",
              "    </tr>\n",
              "    <tr>\n",
              "      <th>3</th>\n",
              "      <td>20TAGRElvfE</td>\n",
              "      <td>1740.11</td>\n",
              "      <td>0.504016</td>\n",
              "      <td>0.183333</td>\n",
              "      <td>0.678715</td>\n",
              "      <td>0.463889</td>\n",
              "      <td>NOT_SPEAKING</td>\n",
              "      <td>20TAGRElvfE_1740_1800:1</td>\n",
              "      <td>20TAGRElvfE</td>\n",
              "      <td>0</td>\n",
              "    </tr>\n",
              "    <tr>\n",
              "      <th>4</th>\n",
              "      <td>20TAGRElvfE</td>\n",
              "      <td>1740.16</td>\n",
              "      <td>0.504016</td>\n",
              "      <td>0.183333</td>\n",
              "      <td>0.678715</td>\n",
              "      <td>0.463889</td>\n",
              "      <td>NOT_SPEAKING</td>\n",
              "      <td>20TAGRElvfE_1740_1800:1</td>\n",
              "      <td>20TAGRElvfE</td>\n",
              "      <td>0</td>\n",
              "    </tr>\n",
              "    <tr>\n",
              "      <th>...</th>\n",
              "      <td>...</td>\n",
              "      <td>...</td>\n",
              "      <td>...</td>\n",
              "      <td>...</td>\n",
              "      <td>...</td>\n",
              "      <td>...</td>\n",
              "      <td>...</td>\n",
              "      <td>...</td>\n",
              "      <td>...</td>\n",
              "      <td>...</td>\n",
              "    </tr>\n",
              "    <tr>\n",
              "      <th>2676309</th>\n",
              "      <td>x-6CtPWVi6E</td>\n",
              "      <td>958.22</td>\n",
              "      <td>0.500000</td>\n",
              "      <td>0.029167</td>\n",
              "      <td>0.705399</td>\n",
              "      <td>0.452083</td>\n",
              "      <td>NOT_SPEAKING</td>\n",
              "      <td>x-6CtPWVi6E_0900_0960:54</td>\n",
              "      <td>x-6CtPWVi6E</td>\n",
              "      <td>0</td>\n",
              "    </tr>\n",
              "    <tr>\n",
              "      <th>2676310</th>\n",
              "      <td>x-6CtPWVi6E</td>\n",
              "      <td>958.25</td>\n",
              "      <td>0.500000</td>\n",
              "      <td>0.031250</td>\n",
              "      <td>0.705399</td>\n",
              "      <td>0.454167</td>\n",
              "      <td>NOT_SPEAKING</td>\n",
              "      <td>x-6CtPWVi6E_0900_0960:54</td>\n",
              "      <td>x-6CtPWVi6E</td>\n",
              "      <td>0</td>\n",
              "    </tr>\n",
              "    <tr>\n",
              "      <th>2676311</th>\n",
              "      <td>x-6CtPWVi6E</td>\n",
              "      <td>958.29</td>\n",
              "      <td>0.500000</td>\n",
              "      <td>0.031250</td>\n",
              "      <td>0.705399</td>\n",
              "      <td>0.454167</td>\n",
              "      <td>NOT_SPEAKING</td>\n",
              "      <td>x-6CtPWVi6E_0900_0960:54</td>\n",
              "      <td>x-6CtPWVi6E</td>\n",
              "      <td>0</td>\n",
              "    </tr>\n",
              "    <tr>\n",
              "      <th>2676312</th>\n",
              "      <td>x-6CtPWVi6E</td>\n",
              "      <td>958.32</td>\n",
              "      <td>0.500000</td>\n",
              "      <td>0.031250</td>\n",
              "      <td>0.705399</td>\n",
              "      <td>0.454167</td>\n",
              "      <td>NOT_SPEAKING</td>\n",
              "      <td>x-6CtPWVi6E_0900_0960:54</td>\n",
              "      <td>x-6CtPWVi6E</td>\n",
              "      <td>0</td>\n",
              "    </tr>\n",
              "    <tr>\n",
              "      <th>2676313</th>\n",
              "      <td>x-6CtPWVi6E</td>\n",
              "      <td>958.35</td>\n",
              "      <td>0.500000</td>\n",
              "      <td>0.031250</td>\n",
              "      <td>0.705399</td>\n",
              "      <td>0.454167</td>\n",
              "      <td>NOT_SPEAKING</td>\n",
              "      <td>x-6CtPWVi6E_0900_0960:54</td>\n",
              "      <td>x-6CtPWVi6E</td>\n",
              "      <td>0</td>\n",
              "    </tr>\n",
              "  </tbody>\n",
              "</table>\n",
              "<p>2676314 rows × 10 columns</p>\n",
              "</div>\n",
              "    <div class=\"colab-df-buttons\">\n",
              "\n",
              "  <div class=\"colab-df-container\">\n",
              "    <button class=\"colab-df-convert\" onclick=\"convertToInteractive('df-9666303b-144c-4ca3-90d1-1006119225a1')\"\n",
              "            title=\"Convert this dataframe to an interactive table.\"\n",
              "            style=\"display:none;\">\n",
              "\n",
              "  <svg xmlns=\"http://www.w3.org/2000/svg\" height=\"24px\" viewBox=\"0 -960 960 960\">\n",
              "    <path d=\"M120-120v-720h720v720H120Zm60-500h600v-160H180v160Zm220 220h160v-160H400v160Zm0 220h160v-160H400v160ZM180-400h160v-160H180v160Zm440 0h160v-160H620v160ZM180-180h160v-160H180v160Zm440 0h160v-160H620v160Z\"/>\n",
              "  </svg>\n",
              "    </button>\n",
              "\n",
              "  <style>\n",
              "    .colab-df-container {\n",
              "      display:flex;\n",
              "      gap: 12px;\n",
              "    }\n",
              "\n",
              "    .colab-df-convert {\n",
              "      background-color: #E8F0FE;\n",
              "      border: none;\n",
              "      border-radius: 50%;\n",
              "      cursor: pointer;\n",
              "      display: none;\n",
              "      fill: #1967D2;\n",
              "      height: 32px;\n",
              "      padding: 0 0 0 0;\n",
              "      width: 32px;\n",
              "    }\n",
              "\n",
              "    .colab-df-convert:hover {\n",
              "      background-color: #E2EBFA;\n",
              "      box-shadow: 0px 1px 2px rgba(60, 64, 67, 0.3), 0px 1px 3px 1px rgba(60, 64, 67, 0.15);\n",
              "      fill: #174EA6;\n",
              "    }\n",
              "\n",
              "    .colab-df-buttons div {\n",
              "      margin-bottom: 4px;\n",
              "    }\n",
              "\n",
              "    [theme=dark] .colab-df-convert {\n",
              "      background-color: #3B4455;\n",
              "      fill: #D2E3FC;\n",
              "    }\n",
              "\n",
              "    [theme=dark] .colab-df-convert:hover {\n",
              "      background-color: #434B5C;\n",
              "      box-shadow: 0px 1px 3px 1px rgba(0, 0, 0, 0.15);\n",
              "      filter: drop-shadow(0px 1px 2px rgba(0, 0, 0, 0.3));\n",
              "      fill: #FFFFFF;\n",
              "    }\n",
              "  </style>\n",
              "\n",
              "    <script>\n",
              "      const buttonEl =\n",
              "        document.querySelector('#df-9666303b-144c-4ca3-90d1-1006119225a1 button.colab-df-convert');\n",
              "      buttonEl.style.display =\n",
              "        google.colab.kernel.accessAllowed ? 'block' : 'none';\n",
              "\n",
              "      async function convertToInteractive(key) {\n",
              "        const element = document.querySelector('#df-9666303b-144c-4ca3-90d1-1006119225a1');\n",
              "        const dataTable =\n",
              "          await google.colab.kernel.invokeFunction('convertToInteractive',\n",
              "                                                    [key], {});\n",
              "        if (!dataTable) return;\n",
              "\n",
              "        const docLinkHtml = 'Like what you see? Visit the ' +\n",
              "          '<a target=\"_blank\" href=https://colab.research.google.com/notebooks/data_table.ipynb>data table notebook</a>'\n",
              "          + ' to learn more about interactive tables.';\n",
              "        element.innerHTML = '';\n",
              "        dataTable['output_type'] = 'display_data';\n",
              "        await google.colab.output.renderOutput(dataTable, element);\n",
              "        const docLink = document.createElement('div');\n",
              "        docLink.innerHTML = docLinkHtml;\n",
              "        element.appendChild(docLink);\n",
              "      }\n",
              "    </script>\n",
              "  </div>\n",
              "\n",
              "\n",
              "    <div id=\"df-30b871af-fba5-434f-877f-79fe931ce666\">\n",
              "      <button class=\"colab-df-quickchart\" onclick=\"quickchart('df-30b871af-fba5-434f-877f-79fe931ce666')\"\n",
              "                title=\"Suggest charts\"\n",
              "                style=\"display:none;\">\n",
              "\n",
              "<svg xmlns=\"http://www.w3.org/2000/svg\" height=\"24px\"viewBox=\"0 0 24 24\"\n",
              "     width=\"24px\">\n",
              "    <g>\n",
              "        <path d=\"M19 3H5c-1.1 0-2 .9-2 2v14c0 1.1.9 2 2 2h14c1.1 0 2-.9 2-2V5c0-1.1-.9-2-2-2zM9 17H7v-7h2v7zm4 0h-2V7h2v10zm4 0h-2v-4h2v4z\"/>\n",
              "    </g>\n",
              "</svg>\n",
              "      </button>\n",
              "\n",
              "<style>\n",
              "  .colab-df-quickchart {\n",
              "      --bg-color: #E8F0FE;\n",
              "      --fill-color: #1967D2;\n",
              "      --hover-bg-color: #E2EBFA;\n",
              "      --hover-fill-color: #174EA6;\n",
              "      --disabled-fill-color: #AAA;\n",
              "      --disabled-bg-color: #DDD;\n",
              "  }\n",
              "\n",
              "  [theme=dark] .colab-df-quickchart {\n",
              "      --bg-color: #3B4455;\n",
              "      --fill-color: #D2E3FC;\n",
              "      --hover-bg-color: #434B5C;\n",
              "      --hover-fill-color: #FFFFFF;\n",
              "      --disabled-bg-color: #3B4455;\n",
              "      --disabled-fill-color: #666;\n",
              "  }\n",
              "\n",
              "  .colab-df-quickchart {\n",
              "    background-color: var(--bg-color);\n",
              "    border: none;\n",
              "    border-radius: 50%;\n",
              "    cursor: pointer;\n",
              "    display: none;\n",
              "    fill: var(--fill-color);\n",
              "    height: 32px;\n",
              "    padding: 0;\n",
              "    width: 32px;\n",
              "  }\n",
              "\n",
              "  .colab-df-quickchart:hover {\n",
              "    background-color: var(--hover-bg-color);\n",
              "    box-shadow: 0 1px 2px rgba(60, 64, 67, 0.3), 0 1px 3px 1px rgba(60, 64, 67, 0.15);\n",
              "    fill: var(--button-hover-fill-color);\n",
              "  }\n",
              "\n",
              "  .colab-df-quickchart-complete:disabled,\n",
              "  .colab-df-quickchart-complete:disabled:hover {\n",
              "    background-color: var(--disabled-bg-color);\n",
              "    fill: var(--disabled-fill-color);\n",
              "    box-shadow: none;\n",
              "  }\n",
              "\n",
              "  .colab-df-spinner {\n",
              "    border: 2px solid var(--fill-color);\n",
              "    border-color: transparent;\n",
              "    border-bottom-color: var(--fill-color);\n",
              "    animation:\n",
              "      spin 1s steps(1) infinite;\n",
              "  }\n",
              "\n",
              "  @keyframes spin {\n",
              "    0% {\n",
              "      border-color: transparent;\n",
              "      border-bottom-color: var(--fill-color);\n",
              "      border-left-color: var(--fill-color);\n",
              "    }\n",
              "    20% {\n",
              "      border-color: transparent;\n",
              "      border-left-color: var(--fill-color);\n",
              "      border-top-color: var(--fill-color);\n",
              "    }\n",
              "    30% {\n",
              "      border-color: transparent;\n",
              "      border-left-color: var(--fill-color);\n",
              "      border-top-color: var(--fill-color);\n",
              "      border-right-color: var(--fill-color);\n",
              "    }\n",
              "    40% {\n",
              "      border-color: transparent;\n",
              "      border-right-color: var(--fill-color);\n",
              "      border-top-color: var(--fill-color);\n",
              "    }\n",
              "    60% {\n",
              "      border-color: transparent;\n",
              "      border-right-color: var(--fill-color);\n",
              "    }\n",
              "    80% {\n",
              "      border-color: transparent;\n",
              "      border-right-color: var(--fill-color);\n",
              "      border-bottom-color: var(--fill-color);\n",
              "    }\n",
              "    90% {\n",
              "      border-color: transparent;\n",
              "      border-bottom-color: var(--fill-color);\n",
              "    }\n",
              "  }\n",
              "</style>\n",
              "\n",
              "      <script>\n",
              "        async function quickchart(key) {\n",
              "          const quickchartButtonEl =\n",
              "            document.querySelector('#' + key + ' button');\n",
              "          quickchartButtonEl.disabled = true;  // To prevent multiple clicks.\n",
              "          quickchartButtonEl.classList.add('colab-df-spinner');\n",
              "          try {\n",
              "            const charts = await google.colab.kernel.invokeFunction(\n",
              "                'suggestCharts', [key], {});\n",
              "          } catch (error) {\n",
              "            console.error('Error during call to suggestCharts:', error);\n",
              "          }\n",
              "          quickchartButtonEl.classList.remove('colab-df-spinner');\n",
              "          quickchartButtonEl.classList.add('colab-df-quickchart-complete');\n",
              "        }\n",
              "        (() => {\n",
              "          let quickchartButtonEl =\n",
              "            document.querySelector('#df-30b871af-fba5-434f-877f-79fe931ce666 button');\n",
              "          quickchartButtonEl.style.display =\n",
              "            google.colab.kernel.accessAllowed ? 'block' : 'none';\n",
              "        })();\n",
              "      </script>\n",
              "    </div>\n",
              "\n",
              "  <div id=\"id_e55acf86-3367-481d-abd7-c585c380134b\">\n",
              "    <style>\n",
              "      .colab-df-generate {\n",
              "        background-color: #E8F0FE;\n",
              "        border: none;\n",
              "        border-radius: 50%;\n",
              "        cursor: pointer;\n",
              "        display: none;\n",
              "        fill: #1967D2;\n",
              "        height: 32px;\n",
              "        padding: 0 0 0 0;\n",
              "        width: 32px;\n",
              "      }\n",
              "\n",
              "      .colab-df-generate:hover {\n",
              "        background-color: #E2EBFA;\n",
              "        box-shadow: 0px 1px 2px rgba(60, 64, 67, 0.3), 0px 1px 3px 1px rgba(60, 64, 67, 0.15);\n",
              "        fill: #174EA6;\n",
              "      }\n",
              "\n",
              "      [theme=dark] .colab-df-generate {\n",
              "        background-color: #3B4455;\n",
              "        fill: #D2E3FC;\n",
              "      }\n",
              "\n",
              "      [theme=dark] .colab-df-generate:hover {\n",
              "        background-color: #434B5C;\n",
              "        box-shadow: 0px 1px 3px 1px rgba(0, 0, 0, 0.15);\n",
              "        filter: drop-shadow(0px 1px 2px rgba(0, 0, 0, 0.3));\n",
              "        fill: #FFFFFF;\n",
              "      }\n",
              "    </style>\n",
              "    <button class=\"colab-df-generate\" onclick=\"generateWithVariable('filtered_df')\"\n",
              "            title=\"Generate code using this dataframe.\"\n",
              "            style=\"display:none;\">\n",
              "\n",
              "  <svg xmlns=\"http://www.w3.org/2000/svg\" height=\"24px\"viewBox=\"0 0 24 24\"\n",
              "       width=\"24px\">\n",
              "    <path d=\"M7,19H8.4L18.45,9,17,7.55,7,17.6ZM5,21V16.75L18.45,3.32a2,2,0,0,1,2.83,0l1.4,1.43a1.91,1.91,0,0,1,.58,1.4,1.91,1.91,0,0,1-.58,1.4L9.25,21ZM18.45,9,17,7.55Zm-12,3A5.31,5.31,0,0,0,4.9,8.1,5.31,5.31,0,0,0,1,6.5,5.31,5.31,0,0,0,4.9,4.9,5.31,5.31,0,0,0,6.5,1,5.31,5.31,0,0,0,8.1,4.9,5.31,5.31,0,0,0,12,6.5,5.46,5.46,0,0,0,6.5,12Z\"/>\n",
              "  </svg>\n",
              "    </button>\n",
              "    <script>\n",
              "      (() => {\n",
              "      const buttonEl =\n",
              "        document.querySelector('#id_e55acf86-3367-481d-abd7-c585c380134b button.colab-df-generate');\n",
              "      buttonEl.style.display =\n",
              "        google.colab.kernel.accessAllowed ? 'block' : 'none';\n",
              "\n",
              "      buttonEl.onclick = () => {\n",
              "        google.colab.notebook.generateWithVariable('filtered_df');\n",
              "      }\n",
              "      })();\n",
              "    </script>\n",
              "  </div>\n",
              "\n",
              "    </div>\n",
              "  </div>\n"
            ],
            "text/plain": [
              "            video_id  timestamp        x1        y1        x2        y2  \\\n",
              "0        20TAGRElvfE    1740.00  0.504016  0.183333  0.678715  0.463889   \n",
              "1        20TAGRElvfE    1740.04  0.504016  0.183333  0.678715  0.463889   \n",
              "2        20TAGRElvfE    1740.07  0.504016  0.180556  0.678715  0.463889   \n",
              "3        20TAGRElvfE    1740.11  0.504016  0.183333  0.678715  0.463889   \n",
              "4        20TAGRElvfE    1740.16  0.504016  0.183333  0.678715  0.463889   \n",
              "...              ...        ...       ...       ...       ...       ...   \n",
              "2676309  x-6CtPWVi6E     958.22  0.500000  0.029167  0.705399  0.452083   \n",
              "2676310  x-6CtPWVi6E     958.25  0.500000  0.031250  0.705399  0.454167   \n",
              "2676311  x-6CtPWVi6E     958.29  0.500000  0.031250  0.705399  0.454167   \n",
              "2676312  x-6CtPWVi6E     958.32  0.500000  0.031250  0.705399  0.454167   \n",
              "2676313  x-6CtPWVi6E     958.35  0.500000  0.031250  0.705399  0.454167   \n",
              "\n",
              "                label                 entity_id   video_file  binary_label  \n",
              "0        NOT_SPEAKING   20TAGRElvfE_1740_1800:1  20TAGRElvfE             0  \n",
              "1        NOT_SPEAKING   20TAGRElvfE_1740_1800:1  20TAGRElvfE             0  \n",
              "2        NOT_SPEAKING   20TAGRElvfE_1740_1800:1  20TAGRElvfE             0  \n",
              "3        NOT_SPEAKING   20TAGRElvfE_1740_1800:1  20TAGRElvfE             0  \n",
              "4        NOT_SPEAKING   20TAGRElvfE_1740_1800:1  20TAGRElvfE             0  \n",
              "...               ...                       ...          ...           ...  \n",
              "2676309  NOT_SPEAKING  x-6CtPWVi6E_0900_0960:54  x-6CtPWVi6E             0  \n",
              "2676310  NOT_SPEAKING  x-6CtPWVi6E_0900_0960:54  x-6CtPWVi6E             0  \n",
              "2676311  NOT_SPEAKING  x-6CtPWVi6E_0900_0960:54  x-6CtPWVi6E             0  \n",
              "2676312  NOT_SPEAKING  x-6CtPWVi6E_0900_0960:54  x-6CtPWVi6E             0  \n",
              "2676313  NOT_SPEAKING  x-6CtPWVi6E_0900_0960:54  x-6CtPWVi6E             0  \n",
              "\n",
              "[2676314 rows x 10 columns]"
            ]
          },
          "execution_count": 14,
          "metadata": {},
          "output_type": "execute_result"
        }
      ],
      "source": [
        "filtered_df"
      ]
    },
    {
      "cell_type": "markdown",
      "metadata": {
        "id": "J8kZwwaSSO1j"
      },
      "source": [
        "### Downloading Videos"
      ]
    },
    {
      "cell_type": "code",
      "execution_count": null,
      "metadata": {
        "id": "HdoUcDgZWb0h"
      },
      "outputs": [],
      "source": [
        "BASE_DIR = '/content/drive/MyDrive/aifarm/centerstage'\n",
        "filtered_df = pd.read_csv(f\"{BASE_DIR}/data/processed/train_labels_clean.csv\")\n",
        "test_labels = pd.read_csv(f\"{BASE_DIR}/data/processed/test_labels_clean.csv\")"
      ]
    },
    {
      "cell_type": "code",
      "execution_count": null,
      "metadata": {
        "colab": {
          "base_uri": "https://localhost:8080/"
        },
        "id": "zvTJkxTAAqJK",
        "outputId": "938f9f08-9ad5-4648-ae3c-daf852ffd072"
      },
      "outputs": [
        {
          "name": "stdout",
          "output_type": "stream",
          "text": [
            "Found 153 downloadable videos out of 153\n"
          ]
        }
      ],
      "source": [
        "# === CONFIG ===\n",
        "VIDEO_LIST_FILE = os.path.join(BASE_DIR, \"data/raw/ava_video_list.txt\")\n",
        "DOWNLOAD_DIR = os.path.join(BASE_DIR, \"data/videos\")\n",
        "S3_URL_PREFIX = \"https://s3.amazonaws.com/ava-dataset/trainval\"\n",
        "\n",
        "os.makedirs(DOWNLOAD_DIR, exist_ok=True)\n",
        "\n",
        "# Load available video filenames\n",
        "with open(VIDEO_LIST_FILE, \"r\") as f:\n",
        "    available_files = set(line.strip() for line in f.readlines())\n",
        "\n",
        "# Get unique video IDs from both training and test sets\n",
        "train_video_ids = set(filtered_df['video_id'].unique())\n",
        "test_video_ids = set(test_labels['video_id'].unique())\n",
        "\n",
        "# Union of both sets\n",
        "required_ids = train_video_ids.union(test_video_ids)\n",
        "\n",
        "# Match with available video filenames\n",
        "video_files_to_download = []\n",
        "for file_name in available_files:\n",
        "    vid = os.path.splitext(file_name)[0]\n",
        "    if vid in required_ids:\n",
        "        video_files_to_download.append(file_name)\n",
        "\n",
        "print(f\"Found {len(video_files_to_download)} downloadable videos out of {len(required_ids)}\")"
      ]
    },
    {
      "cell_type": "code",
      "execution_count": null,
      "metadata": {
        "colab": {
          "base_uri": "https://localhost:8080/"
        },
        "id": "8HpRvEXpIwS2",
        "outputId": "38f84043-3f19-477e-c2ff-f330c07a0dcd"
      },
      "outputs": [
        {
          "name": "stderr",
          "output_type": "stream",
          "text": [
            "  1%|          | 1/153 [00:10<27:21, 10.80s/it]"
          ]
        },
        {
          "name": "stdout",
          "output_type": "stream",
          "text": [
            "Downloaded: fD6VkIRlIRI.mkv\n"
          ]
        },
        {
          "name": "stderr",
          "output_type": "stream",
          "text": [
            "\r  1%|▏         | 2/153 [00:16<20:18,  8.07s/it]"
          ]
        },
        {
          "name": "stdout",
          "output_type": "stream",
          "text": [
            "Downloaded: 9mLYmkonWZQ.mkv\n"
          ]
        },
        {
          "name": "stderr",
          "output_type": "stream",
          "text": [
            "\r  2%|▏         | 3/153 [01:28<1:32:23, 36.95s/it]"
          ]
        },
        {
          "name": "stdout",
          "output_type": "stream",
          "text": [
            "Downloaded: sUVhd0YTKgw.mkv\n"
          ]
        },
        {
          "name": "stderr",
          "output_type": "stream",
          "text": [
            "\r  3%|▎         | 4/153 [01:33<1:00:37, 24.41s/it]"
          ]
        },
        {
          "name": "stdout",
          "output_type": "stream",
          "text": [
            "Downloaded: tghXjom3120.mkv\n"
          ]
        },
        {
          "name": "stderr",
          "output_type": "stream",
          "text": [
            "\r  3%|▎         | 5/153 [01:37<41:45, 16.93s/it]  "
          ]
        },
        {
          "name": "stdout",
          "output_type": "stream",
          "text": [
            "Downloaded: -IELREHX_js.mp4\n"
          ]
        },
        {
          "name": "stderr",
          "output_type": "stream",
          "text": [
            "\r  4%|▍         | 6/153 [01:54<41:45, 17.04s/it]"
          ]
        },
        {
          "name": "stdout",
          "output_type": "stream",
          "text": [
            "Downloaded: Ekwy7wzLfjc.mkv\n"
          ]
        },
        {
          "name": "stderr",
          "output_type": "stream",
          "text": [
            "\r  5%|▍         | 7/153 [02:00<32:37, 13.41s/it]"
          ]
        },
        {
          "name": "stdout",
          "output_type": "stream",
          "text": [
            "Downloaded: OfMdakd4bHI.mkv\n"
          ]
        },
        {
          "name": "stderr",
          "output_type": "stream",
          "text": [
            "\r  5%|▌         | 8/153 [02:15<33:26, 13.84s/it]"
          ]
        },
        {
          "name": "stdout",
          "output_type": "stream",
          "text": [
            "Downloaded: TzaVHtLXOzY.mkv\n"
          ]
        },
        {
          "name": "stderr",
          "output_type": "stream",
          "text": [
            "\r  6%|▌         | 9/153 [02:21<27:55, 11.64s/it]"
          ]
        },
        {
          "name": "stdout",
          "output_type": "stream",
          "text": [
            "Downloaded: 7nHkh4sP5Ks.mkv\n"
          ]
        },
        {
          "name": "stderr",
          "output_type": "stream",
          "text": [
            "\r  7%|▋         | 10/153 [03:22<1:03:53, 26.81s/it]"
          ]
        },
        {
          "name": "stdout",
          "output_type": "stream",
          "text": [
            "Downloaded: xmqSaQPzL1E.mkv\n"
          ]
        },
        {
          "name": "stderr",
          "output_type": "stream",
          "text": [
            "\r  7%|▋         | 11/153 [03:28<48:22, 20.44s/it]  "
          ]
        },
        {
          "name": "stdout",
          "output_type": "stream",
          "text": [
            "Downloaded: UrsCy6qIGoo.mkv\n"
          ]
        },
        {
          "name": "stderr",
          "output_type": "stream",
          "text": [
            "\r  8%|▊         | 12/153 [03:40<42:00, 17.88s/it]"
          ]
        },
        {
          "name": "stdout",
          "output_type": "stream",
          "text": [
            "Downloaded: J1jDc2rTJlg.mkv\n"
          ]
        },
        {
          "name": "stderr",
          "output_type": "stream",
          "text": [
            "\r  8%|▊         | 13/153 [04:23<59:12, 25.37s/it]"
          ]
        },
        {
          "name": "stdout",
          "output_type": "stream",
          "text": [
            "Downloaded: 2fwni_Kjf2M.mkv\n"
          ]
        },
        {
          "name": "stderr",
          "output_type": "stream",
          "text": [
            "\r  9%|▉         | 14/153 [04:52<1:01:18, 26.46s/it]"
          ]
        },
        {
          "name": "stdout",
          "output_type": "stream",
          "text": [
            "Downloaded: rJKeqfTlAeY.mkv\n"
          ]
        },
        {
          "name": "stderr",
          "output_type": "stream",
          "text": [
            "\r 10%|▉         | 15/153 [04:57<46:28, 20.21s/it]  "
          ]
        },
        {
          "name": "stdout",
          "output_type": "stream",
          "text": [
            "Downloaded: vfjywN5CN0Y.mkv\n"
          ]
        },
        {
          "name": "stderr",
          "output_type": "stream",
          "text": [
            "\r 10%|█         | 16/153 [05:10<40:45, 17.85s/it]"
          ]
        },
        {
          "name": "stdout",
          "output_type": "stream",
          "text": [
            "Downloaded: 0f39OWEqJ24.mp4\n"
          ]
        },
        {
          "name": "stderr",
          "output_type": "stream",
          "text": [
            "\r 11%|█         | 17/153 [05:30<42:01, 18.54s/it]"
          ]
        },
        {
          "name": "stdout",
          "output_type": "stream",
          "text": [
            "Downloaded: P60OxWahxBQ.mkv\n"
          ]
        },
        {
          "name": "stderr",
          "output_type": "stream",
          "text": [
            "\r 12%|█▏        | 18/153 [05:39<35:29, 15.78s/it]"
          ]
        },
        {
          "name": "stdout",
          "output_type": "stream",
          "text": [
            "Downloaded: qx2vAO5ofmo.mp4\n"
          ]
        },
        {
          "name": "stderr",
          "output_type": "stream",
          "text": [
            "\r 12%|█▏        | 19/153 [05:54<34:44, 15.55s/it]"
          ]
        },
        {
          "name": "stdout",
          "output_type": "stream",
          "text": [
            "Downloaded: zR725veL-DI.mkv\n"
          ]
        },
        {
          "name": "stderr",
          "output_type": "stream",
          "text": [
            "\r 13%|█▎        | 20/153 [06:08<33:29, 15.11s/it]"
          ]
        },
        {
          "name": "stdout",
          "output_type": "stream",
          "text": [
            "Downloaded: kMy-6RtoOVU.mkv\n"
          ]
        },
        {
          "name": "stderr",
          "output_type": "stream",
          "text": [
            "\r 14%|█▎        | 21/153 [06:22<32:04, 14.58s/it]"
          ]
        },
        {
          "name": "stdout",
          "output_type": "stream",
          "text": [
            "Downloaded: Ma2hgTmveKQ.mkv\n"
          ]
        },
        {
          "name": "stderr",
          "output_type": "stream",
          "text": [
            "\r 14%|█▍        | 22/153 [06:32<28:41, 13.14s/it]"
          ]
        },
        {
          "name": "stdout",
          "output_type": "stream",
          "text": [
            "Downloaded: P90hF2S1JzA.mkv\n"
          ]
        },
        {
          "name": "stderr",
          "output_type": "stream",
          "text": [
            "\r 15%|█▌        | 23/153 [07:13<47:04, 21.72s/it]"
          ]
        },
        {
          "name": "stdout",
          "output_type": "stream",
          "text": [
            "Downloaded: uPJPNPbWMFk.mp4\n"
          ]
        },
        {
          "name": "stderr",
          "output_type": "stream",
          "text": [
            "\r 16%|█▌        | 24/153 [07:23<39:11, 18.23s/it]"
          ]
        },
        {
          "name": "stdout",
          "output_type": "stream",
          "text": [
            "Downloaded: rUYsoIIE37A.mp4\n"
          ]
        },
        {
          "name": "stderr",
          "output_type": "stream",
          "text": [
            "\r 16%|█▋        | 25/153 [07:29<31:03, 14.56s/it]"
          ]
        },
        {
          "name": "stdout",
          "output_type": "stream",
          "text": [
            "Downloaded: 914yZXz-iRs.mkv\n"
          ]
        },
        {
          "name": "stderr",
          "output_type": "stream",
          "text": [
            "\r 17%|█▋        | 26/153 [07:56<38:35, 18.23s/it]"
          ]
        },
        {
          "name": "stdout",
          "output_type": "stream",
          "text": [
            "Downloaded: BCiuXAuCKAU.mp4\n"
          ]
        },
        {
          "name": "stderr",
          "output_type": "stream",
          "text": [
            "\r 18%|█▊        | 27/153 [08:06<32:55, 15.68s/it]"
          ]
        },
        {
          "name": "stdout",
          "output_type": "stream",
          "text": [
            "Downloaded: Gvp-cj3bmIY.webm\n"
          ]
        },
        {
          "name": "stderr",
          "output_type": "stream",
          "text": [
            "\r 18%|█▊        | 28/153 [08:27<35:53, 17.23s/it]"
          ]
        },
        {
          "name": "stdout",
          "output_type": "stream",
          "text": [
            "Downloaded: QCLQYnt3aMo.webm\n"
          ]
        },
        {
          "name": "stderr",
          "output_type": "stream",
          "text": [
            "\r 19%|█▉        | 29/153 [08:37<30:58, 14.99s/it]"
          ]
        },
        {
          "name": "stdout",
          "output_type": "stream",
          "text": [
            "Downloaded: 5YPjcdLbs5g.mkv\n"
          ]
        },
        {
          "name": "stderr",
          "output_type": "stream",
          "text": [
            "\r 20%|█▉        | 30/153 [08:45<26:49, 13.09s/it]"
          ]
        },
        {
          "name": "stdout",
          "output_type": "stream",
          "text": [
            "Downloaded: E7JcKooKVsM.mp4\n"
          ]
        },
        {
          "name": "stderr",
          "output_type": "stream",
          "text": [
            "\r 20%|██        | 31/153 [08:57<25:42, 12.64s/it]"
          ]
        },
        {
          "name": "stdout",
          "output_type": "stream",
          "text": [
            "Downloaded: LgBQlW6OTr0.mp4\n"
          ]
        },
        {
          "name": "stderr",
          "output_type": "stream",
          "text": [
            "\r 21%|██        | 32/153 [09:03<21:52, 10.85s/it]"
          ]
        },
        {
          "name": "stdout",
          "output_type": "stream",
          "text": [
            "Downloaded: uzPI7FcF79U.mkv\n"
          ]
        },
        {
          "name": "stderr",
          "output_type": "stream",
          "text": [
            "\r 22%|██▏       | 33/153 [09:38<36:04, 18.04s/it]"
          ]
        },
        {
          "name": "stdout",
          "output_type": "stream",
          "text": [
            "Downloaded: Ag-pXiLrd48.mp4\n"
          ]
        },
        {
          "name": "stderr",
          "output_type": "stream",
          "text": [
            "\r 22%|██▏       | 34/153 [09:57<36:05, 18.20s/it]"
          ]
        },
        {
          "name": "stdout",
          "output_type": "stream",
          "text": [
            "Downloaded: phVLLTMzmKk.mkv\n"
          ]
        },
        {
          "name": "stderr",
          "output_type": "stream",
          "text": [
            "\r 23%|██▎       | 35/153 [10:06<30:27, 15.49s/it]"
          ]
        },
        {
          "name": "stdout",
          "output_type": "stream",
          "text": [
            "Downloaded: tjqCzVjojCo.mkv\n"
          ]
        },
        {
          "name": "stderr",
          "output_type": "stream",
          "text": [
            "\r 24%|██▎       | 36/153 [10:23<31:22, 16.09s/it]"
          ]
        },
        {
          "name": "stdout",
          "output_type": "stream",
          "text": [
            "Downloaded: j5jmjhGBW44.mkv\n"
          ]
        },
        {
          "name": "stderr",
          "output_type": "stream",
          "text": [
            "\r 24%|██▍       | 37/153 [10:52<38:35, 19.96s/it]"
          ]
        },
        {
          "name": "stdout",
          "output_type": "stream",
          "text": [
            "Downloaded: z-fsLpGHq6o.mkv\n"
          ]
        },
        {
          "name": "stderr",
          "output_type": "stream",
          "text": [
            "\r 25%|██▍       | 38/153 [11:01<31:43, 16.55s/it]"
          ]
        },
        {
          "name": "stdout",
          "output_type": "stream",
          "text": [
            "Downloaded: rXFlJbXyZyc.mkv\n"
          ]
        },
        {
          "name": "stderr",
          "output_type": "stream",
          "text": [
            "\r 25%|██▌       | 39/153 [11:14<29:36, 15.58s/it]"
          ]
        },
        {
          "name": "stdout",
          "output_type": "stream",
          "text": [
            "Downloaded: KVq6If6ozMY.mkv\n"
          ]
        },
        {
          "name": "stderr",
          "output_type": "stream",
          "text": [
            "\r 26%|██▌       | 40/153 [11:23<25:10, 13.37s/it]"
          ]
        },
        {
          "name": "stdout",
          "output_type": "stream",
          "text": [
            "Downloaded: HV0H6oc4Kvs.mkv\n"
          ]
        },
        {
          "name": "stderr",
          "output_type": "stream",
          "text": [
            "\r 27%|██▋       | 41/153 [11:29<20:59, 11.25s/it]"
          ]
        },
        {
          "name": "stdout",
          "output_type": "stream",
          "text": [
            "Downloaded: 053oq2xB3oU.mkv\n"
          ]
        },
        {
          "name": "stderr",
          "output_type": "stream",
          "text": [
            "\r 27%|██▋       | 42/153 [11:42<21:42, 11.73s/it]"
          ]
        },
        {
          "name": "stdout",
          "output_type": "stream",
          "text": [
            "Downloaded: UOyyTUX5Vo4.mkv\n"
          ]
        },
        {
          "name": "stderr",
          "output_type": "stream",
          "text": [
            "\r 28%|██▊       | 43/153 [11:48<18:13,  9.94s/it]"
          ]
        },
        {
          "name": "stdout",
          "output_type": "stream",
          "text": [
            "Downloaded: xO4ABy2iOQA.mp4\n"
          ]
        },
        {
          "name": "stderr",
          "output_type": "stream",
          "text": [
            "\r 29%|██▉       | 44/153 [12:00<19:17, 10.62s/it]"
          ]
        },
        {
          "name": "stdout",
          "output_type": "stream",
          "text": [
            "Downloaded: _a9SWtcaNj8.mkv\n"
          ]
        },
        {
          "name": "stderr",
          "output_type": "stream",
          "text": [
            "\r 29%|██▉       | 45/153 [12:13<20:38, 11.47s/it]"
          ]
        },
        {
          "name": "stdout",
          "output_type": "stream",
          "text": [
            "Downloaded: fpprSy6AzKk.mkv\n"
          ]
        },
        {
          "name": "stderr",
          "output_type": "stream",
          "text": [
            "\r 30%|███       | 46/153 [12:23<19:25, 10.90s/it]"
          ]
        },
        {
          "name": "stdout",
          "output_type": "stream",
          "text": [
            "Downloaded: 8aMv-ZGD4ic.mkv\n"
          ]
        },
        {
          "name": "stderr",
          "output_type": "stream",
          "text": [
            "\r 31%|███       | 47/153 [12:33<18:54, 10.70s/it]"
          ]
        },
        {
          "name": "stdout",
          "output_type": "stream",
          "text": [
            "Downloaded: 26V9UzqSguo.mp4\n"
          ]
        },
        {
          "name": "stderr",
          "output_type": "stream",
          "text": [
            "\r 31%|███▏      | 48/153 [12:43<18:09, 10.38s/it]"
          ]
        },
        {
          "name": "stdout",
          "output_type": "stream",
          "text": [
            "Downloaded: yMtGmGa8KZ0.mkv\n"
          ]
        },
        {
          "name": "stderr",
          "output_type": "stream",
          "text": [
            "\r 32%|███▏      | 49/153 [12:56<19:40, 11.35s/it]"
          ]
        },
        {
          "name": "stdout",
          "output_type": "stream",
          "text": [
            "Downloaded: KWoSGtglCms.mkv\n"
          ]
        },
        {
          "name": "stderr",
          "output_type": "stream",
          "text": [
            "\r 33%|███▎      | 50/153 [13:02<16:26,  9.58s/it]"
          ]
        },
        {
          "name": "stdout",
          "output_type": "stream",
          "text": [
            "Downloaded: IzvOYVMltkI.mp4\n"
          ]
        },
        {
          "name": "stderr",
          "output_type": "stream",
          "text": [
            "\r 33%|███▎      | 51/153 [13:14<17:50, 10.49s/it]"
          ]
        },
        {
          "name": "stdout",
          "output_type": "stream",
          "text": [
            "Downloaded: 6d5u6FHvz7Q.mkv\n"
          ]
        },
        {
          "name": "stderr",
          "output_type": "stream",
          "text": [
            "\r 34%|███▍      | 52/153 [13:20<15:12,  9.04s/it]"
          ]
        },
        {
          "name": "stdout",
          "output_type": "stream",
          "text": [
            "Downloaded: 2qQs3Y9OJX0.mkv\n"
          ]
        },
        {
          "name": "stderr",
          "output_type": "stream",
          "text": [
            "\r 35%|███▍      | 53/153 [13:47<24:11, 14.51s/it]"
          ]
        },
        {
          "name": "stdout",
          "output_type": "stream",
          "text": [
            "Downloaded: F3dPH6Xqf5M.mp4\n"
          ]
        },
        {
          "name": "stderr",
          "output_type": "stream",
          "text": [
            "\r 35%|███▌      | 54/153 [13:53<19:28, 11.80s/it]"
          ]
        },
        {
          "name": "stdout",
          "output_type": "stream",
          "text": [
            "Downloaded: -5KQ66BBWC4.mkv\n"
          ]
        },
        {
          "name": "stderr",
          "output_type": "stream",
          "text": [
            "\r 36%|███▌      | 55/153 [14:09<21:41, 13.28s/it]"
          ]
        },
        {
          "name": "stdout",
          "output_type": "stream",
          "text": [
            "Downloaded: WlgxRNCHQzw.mkv\n"
          ]
        },
        {
          "name": "stderr",
          "output_type": "stream",
          "text": [
            "\r 37%|███▋      | 56/153 [14:28<24:09, 14.94s/it]"
          ]
        },
        {
          "name": "stdout",
          "output_type": "stream",
          "text": [
            "Downloaded: Ksd1JQFHYWA.mp4\n"
          ]
        },
        {
          "name": "stderr",
          "output_type": "stream",
          "text": [
            "\r 37%|███▋      | 57/153 [14:40<22:14, 13.90s/it]"
          ]
        },
        {
          "name": "stdout",
          "output_type": "stream",
          "text": [
            "Downloaded: g1wyIcLPbq0.mp4\n"
          ]
        },
        {
          "name": "stderr",
          "output_type": "stream",
          "text": [
            "\r 38%|███▊      | 58/153 [14:59<24:23, 15.40s/it]"
          ]
        },
        {
          "name": "stdout",
          "output_type": "stream",
          "text": [
            "Downloaded: Di1MG6auDYo.mkv\n"
          ]
        },
        {
          "name": "stderr",
          "output_type": "stream",
          "text": [
            "\r 39%|███▊      | 59/153 [15:17<25:23, 16.21s/it]"
          ]
        },
        {
          "name": "stdout",
          "output_type": "stream",
          "text": [
            "Downloaded: Hi8QeP_VPu0.mkv\n"
          ]
        },
        {
          "name": "stderr",
          "output_type": "stream",
          "text": [
            "\r 39%|███▉      | 60/153 [15:25<21:28, 13.86s/it]"
          ]
        },
        {
          "name": "stdout",
          "output_type": "stream",
          "text": [
            "Downloaded: _7oWZq_s_Sk.mkv\n"
          ]
        },
        {
          "name": "stderr",
          "output_type": "stream",
          "text": [
            "\r 40%|███▉      | 61/153 [15:39<21:21, 13.93s/it]"
          ]
        },
        {
          "name": "stdout",
          "output_type": "stream",
          "text": [
            "Downloaded: QMwT7DFA5O4.mkv\n"
          ]
        },
        {
          "name": "stderr",
          "output_type": "stream",
          "text": [
            "\r 41%|████      | 62/153 [15:45<17:24, 11.48s/it]"
          ]
        },
        {
          "name": "stdout",
          "output_type": "stream",
          "text": [
            "Downloaded: N1K2bEZLL_A.mkv\n"
          ]
        },
        {
          "name": "stderr",
          "output_type": "stream",
          "text": [
            "\r 41%|████      | 63/153 [16:01<19:27, 12.97s/it]"
          ]
        },
        {
          "name": "stdout",
          "output_type": "stream",
          "text": [
            "Downloaded: iSlDMboCSao.mkv\n"
          ]
        },
        {
          "name": "stderr",
          "output_type": "stream",
          "text": [
            "\r 42%|████▏     | 64/153 [16:08<16:27, 11.10s/it]"
          ]
        },
        {
          "name": "stdout",
          "output_type": "stream",
          "text": [
            "Downloaded: BY3sZmvUp-0.mp4\n"
          ]
        },
        {
          "name": "stderr",
          "output_type": "stream",
          "text": [
            "\r 42%|████▏     | 65/153 [16:12<13:19,  9.08s/it]"
          ]
        },
        {
          "name": "stdout",
          "output_type": "stream",
          "text": [
            "Downloaded: oq_bufAhyl8.mkv\n"
          ]
        },
        {
          "name": "stderr",
          "output_type": "stream",
          "text": [
            "\r 43%|████▎     | 66/153 [16:28<15:53, 10.96s/it]"
          ]
        },
        {
          "name": "stdout",
          "output_type": "stream",
          "text": [
            "Downloaded: l2XO3tQk8lI.mkv\n"
          ]
        },
        {
          "name": "stderr",
          "output_type": "stream",
          "text": [
            "\r 44%|████▍     | 67/153 [16:34<13:51,  9.67s/it]"
          ]
        },
        {
          "name": "stdout",
          "output_type": "stream",
          "text": [
            "Downloaded: 2bxKkUgcqpk.mp4\n"
          ]
        },
        {
          "name": "stderr",
          "output_type": "stream",
          "text": [
            "\r 44%|████▍     | 68/153 [16:58<19:34, 13.82s/it]"
          ]
        },
        {
          "name": "stdout",
          "output_type": "stream",
          "text": [
            "Downloaded: 7YpF6DntOYw.mkv\n"
          ]
        },
        {
          "name": "stderr",
          "output_type": "stream",
          "text": [
            "\r 45%|████▌     | 69/153 [17:02<15:13, 10.87s/it]"
          ]
        },
        {
          "name": "stdout",
          "output_type": "stream",
          "text": [
            "Downloaded: zC5Fh2tTS1U.mp4\n"
          ]
        },
        {
          "name": "stderr",
          "output_type": "stream",
          "text": [
            "\r 46%|████▌     | 70/153 [17:06<12:09,  8.79s/it]"
          ]
        },
        {
          "name": "stdout",
          "output_type": "stream",
          "text": [
            "Downloaded: 2DUITARAsWQ.mp4\n"
          ]
        },
        {
          "name": "stderr",
          "output_type": "stream",
          "text": [
            "\r 46%|████▋     | 71/153 [17:29<17:42, 12.96s/it]"
          ]
        },
        {
          "name": "stdout",
          "output_type": "stream",
          "text": [
            "Downloaded: o4xQ-BEa3Ss.mkv\n"
          ]
        },
        {
          "name": "stderr",
          "output_type": "stream",
          "text": [
            "\r 47%|████▋     | 72/153 [17:43<17:53, 13.26s/it]"
          ]
        },
        {
          "name": "stdout",
          "output_type": "stream",
          "text": [
            "Downloaded: skiZueh4lfY.mkv\n"
          ]
        },
        {
          "name": "stderr",
          "output_type": "stream",
          "text": [
            "\r 48%|████▊     | 73/153 [17:54<16:53, 12.66s/it]"
          ]
        },
        {
          "name": "stdout",
          "output_type": "stream",
          "text": [
            "Downloaded: ax3q-RkVIt4.mp4\n"
          ]
        },
        {
          "name": "stderr",
          "output_type": "stream",
          "text": [
            "\r 48%|████▊     | 74/153 [18:03<15:15, 11.59s/it]"
          ]
        },
        {
          "name": "stdout",
          "output_type": "stream",
          "text": [
            "Downloaded: UgZFdrNT6W0.mkv\n"
          ]
        },
        {
          "name": "stderr",
          "output_type": "stream",
          "text": [
            "\r 49%|████▉     | 75/153 [18:20<17:14, 13.27s/it]"
          ]
        },
        {
          "name": "stdout",
          "output_type": "stream",
          "text": [
            "Downloaded: phrYEKv0rmw.mkv\n"
          ]
        },
        {
          "name": "stderr",
          "output_type": "stream",
          "text": [
            "\r 50%|████▉     | 76/153 [18:26<14:05, 10.98s/it]"
          ]
        },
        {
          "name": "stdout",
          "output_type": "stream",
          "text": [
            "Downloaded: 1j20qq1JyX4.mp4\n"
          ]
        },
        {
          "name": "stderr",
          "output_type": "stream",
          "text": [
            "\r 50%|█████     | 77/153 [18:37<14:06, 11.14s/it]"
          ]
        },
        {
          "name": "stdout",
          "output_type": "stream",
          "text": [
            "Downloaded: Riu4ZKk4YdQ.webm\n"
          ]
        },
        {
          "name": "stderr",
          "output_type": "stream",
          "text": [
            "\r 51%|█████     | 78/153 [18:43<12:01,  9.61s/it]"
          ]
        },
        {
          "name": "stdout",
          "output_type": "stream",
          "text": [
            "Downloaded: 32HR3MnDZ8g.mp4\n"
          ]
        },
        {
          "name": "stderr",
          "output_type": "stream",
          "text": [
            "\r 52%|█████▏    | 79/153 [18:55<12:32, 10.17s/it]"
          ]
        },
        {
          "name": "stdout",
          "output_type": "stream",
          "text": [
            "Downloaded: HKjR70GCRPE.mp4\n"
          ]
        },
        {
          "name": "stderr",
          "output_type": "stream",
          "text": [
            "\r 52%|█████▏    | 80/153 [19:01<10:59,  9.03s/it]"
          ]
        },
        {
          "name": "stdout",
          "output_type": "stream",
          "text": [
            "Downloaded: cKA-qeZuH_w.mkv\n"
          ]
        },
        {
          "name": "stderr",
          "output_type": "stream",
          "text": [
            "\r 53%|█████▎    | 81/153 [19:07<09:47,  8.17s/it]"
          ]
        },
        {
          "name": "stdout",
          "output_type": "stream",
          "text": [
            "Downloaded: S0tkhGJjwLA.mkv\n"
          ]
        },
        {
          "name": "stderr",
          "output_type": "stream",
          "text": [
            "\r 54%|█████▎    | 82/153 [19:19<10:52,  9.20s/it]"
          ]
        },
        {
          "name": "stdout",
          "output_type": "stream",
          "text": [
            "Downloaded: IKdBLciu_-A.mp4\n"
          ]
        },
        {
          "name": "stderr",
          "output_type": "stream",
          "text": [
            "\r 54%|█████▍    | 83/153 [19:29<10:58,  9.41s/it]"
          ]
        },
        {
          "name": "stdout",
          "output_type": "stream",
          "text": [
            "Downloaded: rk8Xm0EAOWs.mkv\n"
          ]
        },
        {
          "name": "stderr",
          "output_type": "stream",
          "text": [
            "\r 55%|█████▍    | 84/153 [20:04<19:47, 17.22s/it]"
          ]
        },
        {
          "name": "stdout",
          "output_type": "stream",
          "text": [
            "Downloaded: uwW0ejeosmk.mkv\n"
          ]
        },
        {
          "name": "stderr",
          "output_type": "stream",
          "text": [
            "\r 56%|█████▌    | 85/153 [20:11<16:02, 14.15s/it]"
          ]
        },
        {
          "name": "stdout",
          "output_type": "stream",
          "text": [
            "Downloaded: _mAfwH6i90E.mkv\n"
          ]
        },
        {
          "name": "stderr",
          "output_type": "stream",
          "text": [
            "\r 56%|█████▌    | 86/153 [20:21<14:22, 12.87s/it]"
          ]
        },
        {
          "name": "stdout",
          "output_type": "stream",
          "text": [
            "Downloaded: 5milLu-6bWI.mp4\n"
          ]
        },
        {
          "name": "stderr",
          "output_type": "stream",
          "text": [
            "\r 57%|█████▋    | 87/153 [20:40<16:17, 14.81s/it]"
          ]
        },
        {
          "name": "stdout",
          "output_type": "stream",
          "text": [
            "Downloaded: rFgb2ECMcrY.mkv\n"
          ]
        },
        {
          "name": "stderr",
          "output_type": "stream",
          "text": [
            "\r 58%|█████▊    | 88/153 [20:57<16:42, 15.42s/it]"
          ]
        },
        {
          "name": "stdout",
          "output_type": "stream",
          "text": [
            "Downloaded: oD_wxyTHJ2I.mp4\n"
          ]
        },
        {
          "name": "stderr",
          "output_type": "stream",
          "text": [
            "\r 58%|█████▊    | 89/153 [21:01<12:41, 11.90s/it]"
          ]
        },
        {
          "name": "stdout",
          "output_type": "stream",
          "text": [
            "Downloaded: iK4Y-JKRRAc.mkv\n"
          ]
        },
        {
          "name": "stderr",
          "output_type": "stream",
          "text": [
            "\r 59%|█████▉    | 90/153 [21:26<16:29, 15.70s/it]"
          ]
        },
        {
          "name": "stdout",
          "output_type": "stream",
          "text": [
            "Downloaded: 4ZpjKfu6Cl8.mkv\n"
          ]
        },
        {
          "name": "stderr",
          "output_type": "stream",
          "text": [
            "\r 59%|█████▉    | 91/153 [21:37<14:51, 14.38s/it]"
          ]
        },
        {
          "name": "stdout",
          "output_type": "stream",
          "text": [
            "Downloaded: PmElx9ZVByw.mp4\n"
          ]
        },
        {
          "name": "stderr",
          "output_type": "stream",
          "text": [
            "\r 60%|██████    | 92/153 [21:56<16:03, 15.80s/it]"
          ]
        },
        {
          "name": "stdout",
          "output_type": "stream",
          "text": [
            "Downloaded: WwoTG3_OjUg.mp4\n"
          ]
        },
        {
          "name": "stderr",
          "output_type": "stream",
          "text": [
            "\r 61%|██████    | 93/153 [22:02<12:56, 12.94s/it]"
          ]
        },
        {
          "name": "stdout",
          "output_type": "stream",
          "text": [
            "Downloaded: 9bK05eBt1GM.mp4\n"
          ]
        },
        {
          "name": "stderr",
          "output_type": "stream",
          "text": [
            "\r 61%|██████▏   | 94/153 [22:15<12:48, 13.03s/it]"
          ]
        },
        {
          "name": "stdout",
          "output_type": "stream",
          "text": [
            "Downloaded: CZ2NP8UsPuE.mkv\n"
          ]
        },
        {
          "name": "stderr",
          "output_type": "stream",
          "text": [
            "\r 62%|██████▏   | 95/153 [22:33<13:52, 14.35s/it]"
          ]
        },
        {
          "name": "stdout",
          "output_type": "stream",
          "text": [
            "Downloaded: Db19rWN5BGo.mkv\n"
          ]
        },
        {
          "name": "stderr",
          "output_type": "stream",
          "text": [
            "\r 63%|██████▎   | 96/153 [23:15<21:34, 22.72s/it]"
          ]
        },
        {
          "name": "stdout",
          "output_type": "stream",
          "text": [
            "Downloaded: XV_FF3WC7kA.mkv\n"
          ]
        },
        {
          "name": "stderr",
          "output_type": "stream",
          "text": [
            "\r 63%|██████▎   | 97/153 [23:20<16:16, 17.43s/it]"
          ]
        },
        {
          "name": "stdout",
          "output_type": "stream",
          "text": [
            "Downloaded: O_NYCUhZ9zw.mp4\n"
          ]
        },
        {
          "name": "stderr",
          "output_type": "stream",
          "text": [
            "\r 64%|██████▍   | 98/153 [23:35<15:06, 16.49s/it]"
          ]
        },
        {
          "name": "stdout",
          "output_type": "stream",
          "text": [
            "Downloaded: CrlfWnsS7ac.mkv\n"
          ]
        },
        {
          "name": "stderr",
          "output_type": "stream",
          "text": [
            "\r 65%|██████▍   | 99/153 [23:51<14:57, 16.62s/it]"
          ]
        },
        {
          "name": "stdout",
          "output_type": "stream",
          "text": [
            "Downloaded: U6m3kNFjdTs.mkv\n"
          ]
        },
        {
          "name": "stderr",
          "output_type": "stream",
          "text": [
            "\r 65%|██████▌   | 100/153 [23:59<12:17, 13.92s/it]"
          ]
        },
        {
          "name": "stdout",
          "output_type": "stream",
          "text": [
            "Downloaded: fNcxxBjEOgw.mkv\n"
          ]
        },
        {
          "name": "stderr",
          "output_type": "stream",
          "text": [
            "\r 66%|██████▌   | 101/153 [24:07<10:26, 12.05s/it]"
          ]
        },
        {
          "name": "stdout",
          "output_type": "stream",
          "text": [
            "Downloaded: JNb4nWexD0I.mkv\n"
          ]
        },
        {
          "name": "stderr",
          "output_type": "stream",
          "text": [
            "\r 67%|██████▋   | 102/153 [24:13<08:40, 10.21s/it]"
          ]
        },
        {
          "name": "stdout",
          "output_type": "stream",
          "text": [
            "Downloaded: 55Ihr6uVIDA.mkv\n"
          ]
        },
        {
          "name": "stderr",
          "output_type": "stream",
          "text": [
            "\r 67%|██████▋   | 103/153 [24:29<10:03, 12.07s/it]"
          ]
        },
        {
          "name": "stdout",
          "output_type": "stream",
          "text": [
            "Downloaded: KHHgQ_Pe4cI.mkv\n"
          ]
        },
        {
          "name": "stderr",
          "output_type": "stream",
          "text": [
            "\r 68%|██████▊   | 104/153 [24:41<09:43, 11.90s/it]"
          ]
        },
        {
          "name": "stdout",
          "output_type": "stream",
          "text": [
            "Downloaded: y7ncweROe9U.mkv\n"
          ]
        },
        {
          "name": "stderr",
          "output_type": "stream",
          "text": [
            "\r 69%|██████▊   | 105/153 [24:55<10:06, 12.64s/it]"
          ]
        },
        {
          "name": "stdout",
          "output_type": "stream",
          "text": [
            "Downloaded: 4gVsDd8PV9U.mp4\n"
          ]
        },
        {
          "name": "stderr",
          "output_type": "stream",
          "text": [
            "\r 69%|██████▉   | 106/153 [25:15<11:33, 14.75s/it]"
          ]
        },
        {
          "name": "stdout",
          "output_type": "stream",
          "text": [
            "Downloaded: Kb1fduj-jdY.mp4\n"
          ]
        },
        {
          "name": "stderr",
          "output_type": "stream",
          "text": [
            "\r 70%|██████▉   | 107/153 [25:20<09:15, 12.07s/it]"
          ]
        },
        {
          "name": "stdout",
          "output_type": "stream",
          "text": [
            "Downloaded: gjdgj04FzR0.mp4\n"
          ]
        },
        {
          "name": "stderr",
          "output_type": "stream",
          "text": [
            "\r 71%|███████   | 108/153 [25:26<07:36, 10.14s/it]"
          ]
        },
        {
          "name": "stdout",
          "output_type": "stream",
          "text": [
            "Downloaded: plkJ45_-pMk.mp4\n"
          ]
        },
        {
          "name": "stderr",
          "output_type": "stream",
          "text": [
            "\r 71%|███████   | 109/153 [25:39<07:56, 10.83s/it]"
          ]
        },
        {
          "name": "stdout",
          "output_type": "stream",
          "text": [
            "Downloaded: K_SpqDJnlps.mkv\n"
          ]
        },
        {
          "name": "stderr",
          "output_type": "stream",
          "text": [
            "\r 72%|███████▏  | 110/153 [25:48<07:22, 10.30s/it]"
          ]
        },
        {
          "name": "stdout",
          "output_type": "stream",
          "text": [
            "Downloaded: VsYPP2I0aUQ.mkv\n"
          ]
        },
        {
          "name": "stderr",
          "output_type": "stream",
          "text": [
            "\r 73%|███████▎  | 111/153 [25:54<06:18,  9.00s/it]"
          ]
        },
        {
          "name": "stdout",
          "output_type": "stream",
          "text": [
            "Downloaded: lDmLcWWBp1E.mkv\n"
          ]
        },
        {
          "name": "stderr",
          "output_type": "stream",
          "text": [
            "\r 73%|███████▎  | 112/153 [26:10<07:46, 11.37s/it]"
          ]
        },
        {
          "name": "stdout",
          "output_type": "stream",
          "text": [
            "Downloaded: x-6CtPWVi6E.mkv\n"
          ]
        },
        {
          "name": "stderr",
          "output_type": "stream",
          "text": [
            "\r 74%|███████▍  | 113/153 [26:19<06:56, 10.41s/it]"
          ]
        },
        {
          "name": "stdout",
          "output_type": "stream",
          "text": [
            "Downloaded: G5Yr20A5z_Q.mkv\n"
          ]
        },
        {
          "name": "stderr",
          "output_type": "stream",
          "text": [
            "\r 75%|███████▍  | 114/153 [26:23<05:39,  8.70s/it]"
          ]
        },
        {
          "name": "stdout",
          "output_type": "stream",
          "text": [
            "Downloaded: bhlFavrh7WU.mkv\n"
          ]
        },
        {
          "name": "stderr",
          "output_type": "stream",
          "text": [
            "\r 75%|███████▌  | 115/153 [26:37<06:27, 10.18s/it]"
          ]
        },
        {
          "name": "stdout",
          "output_type": "stream",
          "text": [
            "Downloaded: xp67EC-Hvwk.mkv\n"
          ]
        },
        {
          "name": "stderr",
          "output_type": "stream",
          "text": [
            "\r 76%|███████▌  | 116/153 [26:55<07:44, 12.55s/it]"
          ]
        },
        {
          "name": "stdout",
          "output_type": "stream",
          "text": [
            "Downloaded: B1MAUxpKaV8.mkv\n"
          ]
        },
        {
          "name": "stderr",
          "output_type": "stream",
          "text": [
            "\r 76%|███████▋  | 117/153 [27:36<12:43, 21.21s/it]"
          ]
        },
        {
          "name": "stdout",
          "output_type": "stream",
          "text": [
            "Downloaded: 9F2voT6QWvQ.mkv\n"
          ]
        },
        {
          "name": "stderr",
          "output_type": "stream",
          "text": [
            "\r 77%|███████▋  | 118/153 [28:10<14:31, 24.90s/it]"
          ]
        },
        {
          "name": "stdout",
          "output_type": "stream",
          "text": [
            "Downloaded: tt0t_a1EDCE.mkv\n"
          ]
        },
        {
          "name": "stderr",
          "output_type": "stream",
          "text": [
            "\r 78%|███████▊  | 119/153 [28:21<11:46, 20.77s/it]"
          ]
        },
        {
          "name": "stdout",
          "output_type": "stream",
          "text": [
            "Downloaded: OGNnUvJq9RI.mkv\n"
          ]
        },
        {
          "name": "stderr",
          "output_type": "stream",
          "text": [
            "\r 78%|███████▊  | 120/153 [28:36<10:29, 19.07s/it]"
          ]
        },
        {
          "name": "stdout",
          "output_type": "stream",
          "text": [
            "Downloaded: yn9WN9lsHRE.mkv\n"
          ]
        },
        {
          "name": "stderr",
          "output_type": "stream",
          "text": [
            "\r 79%|███████▉  | 121/153 [28:42<08:03, 15.12s/it]"
          ]
        },
        {
          "name": "stdout",
          "output_type": "stream",
          "text": [
            "Downloaded: 9Y_l9NsnYE0.mp4\n"
          ]
        },
        {
          "name": "stderr",
          "output_type": "stream",
          "text": [
            "\r 80%|███████▉  | 122/153 [28:45<05:59, 11.60s/it]"
          ]
        },
        {
          "name": "stdout",
          "output_type": "stream",
          "text": [
            "Downloaded: a5mEmM6w_ks.mkv\n"
          ]
        },
        {
          "name": "stderr",
          "output_type": "stream",
          "text": [
            "\r 80%|████████  | 123/153 [28:56<05:40, 11.35s/it]"
          ]
        },
        {
          "name": "stdout",
          "output_type": "stream",
          "text": [
            "Downloaded: -FaXLcSFjUI.mp4\n"
          ]
        },
        {
          "name": "stderr",
          "output_type": "stream",
          "text": [
            "\r 81%|████████  | 124/153 [29:04<04:58, 10.30s/it]"
          ]
        },
        {
          "name": "stdout",
          "output_type": "stream",
          "text": [
            "Downloaded: yo-Kg2YxlZs.mkv\n"
          ]
        },
        {
          "name": "stderr",
          "output_type": "stream",
          "text": [
            "\r 82%|████████▏ | 125/153 [29:13<04:33,  9.76s/it]"
          ]
        },
        {
          "name": "stdout",
          "output_type": "stream",
          "text": [
            "Downloaded: l-jxh8gpxuY.mkv\n"
          ]
        },
        {
          "name": "stderr",
          "output_type": "stream",
          "text": [
            "\r 82%|████████▏ | 126/153 [29:49<07:56, 17.65s/it]"
          ]
        },
        {
          "name": "stdout",
          "output_type": "stream",
          "text": [
            "Downloaded: AYebXQ8eUkM.mkv\n"
          ]
        },
        {
          "name": "stderr",
          "output_type": "stream",
          "text": [
            "\r 83%|████████▎ | 127/153 [29:53<05:55, 13.66s/it]"
          ]
        },
        {
          "name": "stdout",
          "output_type": "stream",
          "text": [
            "Downloaded: 2PpxiG0WU18.mkv\n"
          ]
        },
        {
          "name": "stderr",
          "output_type": "stream",
          "text": [
            "\r 84%|████████▎ | 128/153 [30:06<05:36, 13.46s/it]"
          ]
        },
        {
          "name": "stdout",
          "output_type": "stream",
          "text": [
            "Downloaded: b5pRYl_djbs.mp4\n"
          ]
        },
        {
          "name": "stderr",
          "output_type": "stream",
          "text": [
            "\r 84%|████████▍ | 129/153 [30:15<04:47, 12.00s/it]"
          ]
        },
        {
          "name": "stdout",
          "output_type": "stream",
          "text": [
            "Downloaded: c9pEMjPT16M.webm\n"
          ]
        },
        {
          "name": "stderr",
          "output_type": "stream",
          "text": [
            "\r 85%|████████▍ | 130/153 [30:31<05:09, 13.45s/it]"
          ]
        },
        {
          "name": "stdout",
          "output_type": "stream",
          "text": [
            "Downloaded: sADELCyj10I.mkv\n"
          ]
        },
        {
          "name": "stderr",
          "output_type": "stream",
          "text": [
            "\r 86%|████████▌ | 131/153 [30:38<04:08, 11.29s/it]"
          ]
        },
        {
          "name": "stdout",
          "output_type": "stream",
          "text": [
            "Downloaded: 20TAGRElvfE.mkv\n"
          ]
        },
        {
          "name": "stderr",
          "output_type": "stream",
          "text": [
            "\r 86%|████████▋ | 132/153 [31:23<07:28, 21.37s/it]"
          ]
        },
        {
          "name": "stdout",
          "output_type": "stream",
          "text": [
            "Downloaded: C25wkwAMB-w.mkv\n"
          ]
        },
        {
          "name": "stderr",
          "output_type": "stream",
          "text": [
            "\r 87%|████████▋ | 133/153 [31:42<06:52, 20.65s/it]"
          ]
        },
        {
          "name": "stdout",
          "output_type": "stream",
          "text": [
            "Downloaded: 5BDj0ow5hnA.mp4\n"
          ]
        },
        {
          "name": "stderr",
          "output_type": "stream",
          "text": [
            "\r 88%|████████▊ | 134/153 [31:51<05:29, 17.32s/it]"
          ]
        },
        {
          "name": "stdout",
          "output_type": "stream",
          "text": [
            "Downloaded: 2XeFK-DTSZk.mkv\n"
          ]
        },
        {
          "name": "stderr",
          "output_type": "stream",
          "text": [
            "\r 88%|████████▊ | 135/153 [32:01<04:29, 14.95s/it]"
          ]
        },
        {
          "name": "stdout",
          "output_type": "stream",
          "text": [
            "Downloaded: PNZQ2UJfyQE.mp4\n"
          ]
        },
        {
          "name": "stderr",
          "output_type": "stream",
          "text": [
            "\r 89%|████████▉ | 136/153 [32:11<03:53, 13.75s/it]"
          ]
        },
        {
          "name": "stdout",
          "output_type": "stream",
          "text": [
            "Downloaded: N0Dt9i9IUNg.mkv\n"
          ]
        },
        {
          "name": "stderr",
          "output_type": "stream",
          "text": [
            "\r 90%|████████▉ | 137/153 [32:15<02:48, 10.54s/it]"
          ]
        },
        {
          "name": "stdout",
          "output_type": "stream",
          "text": [
            "Downloaded: N5UD8FGzDek.mkv\n"
          ]
        },
        {
          "name": "stderr",
          "output_type": "stream",
          "text": [
            "\r 90%|█████████ | 138/153 [32:31<03:03, 12.21s/it]"
          ]
        },
        {
          "name": "stdout",
          "output_type": "stream",
          "text": [
            "Downloaded: J4bt4y9ShTA.mkv\n"
          ]
        },
        {
          "name": "stderr",
          "output_type": "stream",
          "text": [
            "\r 91%|█████████ | 139/153 [32:40<02:37, 11.27s/it]"
          ]
        },
        {
          "name": "stdout",
          "output_type": "stream",
          "text": [
            "Downloaded: qrkff49p4E4.mp4\n"
          ]
        },
        {
          "name": "stderr",
          "output_type": "stream",
          "text": [
            "\r 92%|█████████▏| 140/153 [33:04<03:18, 15.24s/it]"
          ]
        },
        {
          "name": "stdout",
          "output_type": "stream",
          "text": [
            "Downloaded: jgAwJ0RqmYg.mp4\n"
          ]
        },
        {
          "name": "stderr",
          "output_type": "stream",
          "text": [
            "\r 92%|█████████▏| 141/153 [33:10<02:28, 12.34s/it]"
          ]
        },
        {
          "name": "stdout",
          "output_type": "stream",
          "text": [
            "Downloaded: u1ltv6r14KQ.mkv\n"
          ]
        },
        {
          "name": "stderr",
          "output_type": "stream",
          "text": [
            "\r 93%|█████████▎| 142/153 [33:16<01:56, 10.58s/it]"
          ]
        },
        {
          "name": "stdout",
          "output_type": "stream",
          "text": [
            "Downloaded: 8nO5FFbIAog.webm\n"
          ]
        },
        {
          "name": "stderr",
          "output_type": "stream",
          "text": [
            "\r 93%|█████████▎| 143/153 [33:38<02:20, 14.05s/it]"
          ]
        },
        {
          "name": "stdout",
          "output_type": "stream",
          "text": [
            "Downloaded: Ov0za6Xb1LM.mkv\n"
          ]
        },
        {
          "name": "stderr",
          "output_type": "stream",
          "text": [
            "\r 94%|█████████▍| 144/153 [34:09<02:51, 19.01s/it]"
          ]
        },
        {
          "name": "stdout",
          "output_type": "stream",
          "text": [
            "Downloaded: xJmRNZVDDCY.mkv\n"
          ]
        },
        {
          "name": "stderr",
          "output_type": "stream",
          "text": [
            "\r 95%|█████████▍| 145/153 [34:27<02:30, 18.84s/it]"
          ]
        },
        {
          "name": "stdout",
          "output_type": "stream",
          "text": [
            "Downloaded: lWXhqIAvarw.mkv\n"
          ]
        },
        {
          "name": "stderr",
          "output_type": "stream",
          "text": [
            "\r 95%|█████████▌| 146/153 [34:43<02:05, 17.89s/it]"
          ]
        },
        {
          "name": "stdout",
          "output_type": "stream",
          "text": [
            "Downloaded: U_WzY2k8IBM.mkv\n"
          ]
        },
        {
          "name": "stderr",
          "output_type": "stream",
          "text": [
            "\r 96%|█████████▌| 147/153 [35:00<01:45, 17.58s/it]"
          ]
        },
        {
          "name": "stdout",
          "output_type": "stream",
          "text": [
            "Downloaded: uNT6HrrnqPU.webm\n"
          ]
        },
        {
          "name": "stderr",
          "output_type": "stream",
          "text": [
            "\r 97%|█████████▋| 148/153 [35:10<01:16, 15.36s/it]"
          ]
        },
        {
          "name": "stdout",
          "output_type": "stream",
          "text": [
            "Downloaded: T-Fc9ctuNVI.mkv\n"
          ]
        },
        {
          "name": "stderr",
          "output_type": "stream",
          "text": [
            "\r 97%|█████████▋| 149/153 [35:19<00:53, 13.49s/it]"
          ]
        },
        {
          "name": "stdout",
          "output_type": "stream",
          "text": [
            "Downloaded: cWYJHb25EVs.mp4\n"
          ]
        },
        {
          "name": "stderr",
          "output_type": "stream",
          "text": [
            "\r 98%|█████████▊| 150/153 [35:27<00:35, 11.80s/it]"
          ]
        },
        {
          "name": "stdout",
          "output_type": "stream",
          "text": [
            "Downloaded: hHgg9WI8dTk.mkv\n"
          ]
        },
        {
          "name": "stderr",
          "output_type": "stream",
          "text": [
            "\r 99%|█████████▊| 151/153 [35:59<00:35, 17.73s/it]"
          ]
        },
        {
          "name": "stdout",
          "output_type": "stream",
          "text": [
            "Downloaded: t1LXrJOvPDg.mkv\n"
          ]
        },
        {
          "name": "stderr",
          "output_type": "stream",
          "text": [
            "\r 99%|█████████▉| 152/153 [36:04<00:14, 14.12s/it]"
          ]
        },
        {
          "name": "stdout",
          "output_type": "stream",
          "text": [
            "Downloaded: AN07xQokfiE.mp4\n"
          ]
        },
        {
          "name": "stderr",
          "output_type": "stream",
          "text": [
            "100%|██████████| 153/153 [36:17<00:00, 14.23s/it]"
          ]
        },
        {
          "name": "stdout",
          "output_type": "stream",
          "text": [
            "Downloaded: tNpZtigMc4g.mkv\n"
          ]
        },
        {
          "name": "stderr",
          "output_type": "stream",
          "text": [
            "\n"
          ]
        }
      ],
      "source": [
        "# === DOWNLOAD FUNCTION ===\n",
        "def download_video(filename, save_dir):\n",
        "    url = f\"{S3_URL_PREFIX}/{filename}\"\n",
        "    local_path = os.path.join(save_dir, filename)\n",
        "\n",
        "    if os.path.exists(local_path):\n",
        "        print(f\"Already downloaded: {filename}\")\n",
        "        return\n",
        "\n",
        "    try:\n",
        "        response = requests.get(url, stream=True)\n",
        "        response.raise_for_status()\n",
        "\n",
        "        with open(local_path, 'wb') as f:\n",
        "            for chunk in response.iter_content(chunk_size=8192):\n",
        "                f.write(chunk)\n",
        "        print(f\"Downloaded: {filename}\")\n",
        "    except Exception as e:\n",
        "        print(f\"Failed to download {filename}: {e}\")\n",
        "\n",
        "# === BATCH DOWNLOAD ===\n",
        "for filename in tqdm(video_files_to_download):\n",
        "    download_video(filename, DOWNLOAD_DIR)"
      ]
    },
    {
      "cell_type": "markdown",
      "metadata": {
        "id": "cw0sLBpYSaXo"
      },
      "source": [
        "### Extracting Faces from Videos"
      ]
    },
    {
      "cell_type": "code",
      "execution_count": 3,
      "metadata": {
        "id": "QlByNyakShsv"
      },
      "outputs": [],
      "source": [
        "BASE_DIR = '/content/drive/MyDrive/aifarm/centerstage'\n",
        "filtered_df = pd.read_csv(f\"{BASE_DIR}/data/processed/train_labels_clean.csv\")\n",
        "test_labels = pd.read_csv(f\"{BASE_DIR}/data/processed/test_labels_clean.csv\")"
      ]
    },
    {
      "cell_type": "code",
      "execution_count": null,
      "metadata": {
        "id": "54xmDhEfrfwc"
      },
      "outputs": [],
      "source": [
        "LABEL_TO_FOLDER = {\n",
        "    'SPEAKING_AUDIBLE': 'speaking',\n",
        "    'SPEAKING_NOT_AUDIBLE': 'speaking',\n",
        "    'NOT_SPEAKING': 'not_speaking'\n",
        "}\n",
        "\n",
        "os.makedirs(SAVE_ROOT, exist_ok=True)\n",
        "\n",
        "def extract_faces_from_video(video_path, video_df, save_root, split):\n",
        "    cap = cv2.VideoCapture(video_path)\n",
        "    if not cap.isOpened():\n",
        "        print(f\"Error opening {video_path}\")\n",
        "        return\n",
        "\n",
        "    fps = cap.get(cv2.CAP_PROP_FPS)\n",
        "    if fps <= 0:\n",
        "        print(f\"Invalid FPS for {video_path}, skipping.\")\n",
        "        return\n",
        "\n",
        "    h, w = int(cap.get(cv2.CAP_PROP_FRAME_HEIGHT)), int(cap.get(cv2.CAP_PROP_FRAME_WIDTH))\n",
        "    video_id = os.path.splitext(os.path.basename(video_path))[0]\n",
        "    video_annots = video_df[video_df['video_id'] == video_id]\n",
        "\n",
        "    for _, row in video_annots.iterrows():\n",
        "        frame_idx = int(float(row['timestamp']) * fps)\n",
        "        cap.set(cv2.CAP_PROP_POS_FRAMES, frame_idx)\n",
        "        success, frame = cap.read()\n",
        "        if not success:\n",
        "            continue\n",
        "\n",
        "        x1 = int(float(row['x1']) * w)\n",
        "        y1 = int(float(row['y1']) * h)\n",
        "        x2 = int(float(row['x2']) * w)\n",
        "        y2 = int(float(row['y2']) * h)\n",
        "\n",
        "        face = frame[y1:y2, x1:x2]\n",
        "        if face.size == 0:\n",
        "            continue\n",
        "\n",
        "        label = row['label']\n",
        "        class_folder = LABEL_TO_FOLDER.get(label)\n",
        "        if class_folder is None:\n",
        "            continue\n",
        "\n",
        "        # === Subfolder by video ID ===\n",
        "        save_dir = os.path.join(save_root, split, class_folder, video_id)\n",
        "        os.makedirs(save_dir, exist_ok=True)\n",
        "\n",
        "        # Filename: frame number + entity ID\n",
        "        filename = f\"{frame_idx}_{row['entity_id']}.jpg\"\n",
        "        save_path = os.path.join(save_dir, filename)\n",
        "        cv2.imwrite(save_path, face)\n",
        "\n",
        "    cap.release()"
      ]
    },
    {
      "cell_type": "code",
      "source": [
        "SAVE_ROOT = \"/content/drive/MyDrive/aifarm/centerstage/data/faces\"\n",
        "VIDEO_DIR = \"/content/drive/MyDrive/aifarm/centerstage/data/videos\"\n",
        "\n",
        "def find_video_path(video_id, video_dir=VIDEO_DIR):\n",
        "    matches = glob.glob(os.path.join(video_dir, f\"{video_id}.*\"))\n",
        "    return matches[0] if matches else None\n",
        "\n",
        "def is_video_already_extracted(video_id, save_root, split):\n",
        "    speaking_path = os.path.join(save_root, split, \"speaking\", video_id)\n",
        "    nonspeaking_path = os.path.join(save_root, split, \"not_speaking\", video_id)\n",
        "\n",
        "    # Check if folder exists and contains any .jpg files\n",
        "    has_speaking = os.path.exists(speaking_path) and glob.glob(os.path.join(speaking_path, \"*.jpg\"))\n",
        "    has_nonspeaking = os.path.exists(nonspeaking_path) and glob.glob(os.path.join(nonspeaking_path, \"*.jpg\"))\n",
        "\n",
        "    return has_speaking or has_nonspeaking\n",
        "\n",
        "# Train set\n",
        "for vid in tqdm(filtered_df['video_id'].unique(), desc=\"Train Set\"):\n",
        "    if is_video_already_extracted(vid, SAVE_ROOT, split=\"train\"):\n",
        "        print(f\"Video {vid} already processed. Skipping.\")\n",
        "        continue\n",
        "\n",
        "    path = find_video_path(vid)\n",
        "    if path:\n",
        "        print(f\" Extracting faces from video {vid}\")\n",
        "        extract_faces_from_video(path, filtered_df, SAVE_ROOT, split=\"train\")\n",
        "\n",
        "# Test set\n",
        "for vid in tqdm(test_labels['video_id'].unique(), desc=\"Test Set\"):\n",
        "    if is_video_already_extracted(vid, SAVE_ROOT, split=\"test\"):\n",
        "        print(f\"Video {vid} already processed. Skipping.\")\n",
        "        continue\n",
        "\n",
        "    path = find_video_path(vid)\n",
        "    if path:\n",
        "        print(f\"\\nExtracting faces from video {vid}\")\n",
        "        extract_faces_from_video(path, test_labels, SAVE_ROOT, split=\"test\")"
      ],
      "metadata": {
        "colab": {
          "base_uri": "https://localhost:8080/"
        },
        "id": "m7jm6E4WhTL9",
        "outputId": "21665f8a-744d-427f-df83-93ff10ef1a9e"
      },
      "execution_count": null,
      "outputs": [
        {
          "output_type": "stream",
          "name": "stderr",
          "text": [
            "Train Set:   1%|          | 1/120 [00:56<1:52:19, 56.63s/it]"
          ]
        },
        {
          "output_type": "stream",
          "name": "stdout",
          "text": [
            "Video 20TAGRElvfE already processed. Skipping.\n"
          ]
        },
        {
          "output_type": "stream",
          "name": "stderr",
          "text": [
            "\rTrain Set:   2%|▏         | 2/120 [01:42<1:38:29, 50.08s/it]"
          ]
        },
        {
          "output_type": "stream",
          "name": "stdout",
          "text": [
            "Video 4gVsDd8PV9U already processed. Skipping.\n"
          ]
        },
        {
          "output_type": "stream",
          "name": "stderr",
          "text": [
            "\rTrain Set:   2%|▎         | 3/120 [02:16<1:23:41, 42.92s/it]"
          ]
        },
        {
          "output_type": "stream",
          "name": "stdout",
          "text": [
            "Video 32HR3MnDZ8g already processed. Skipping.\n"
          ]
        },
        {
          "output_type": "stream",
          "name": "stderr",
          "text": [
            "\rTrain Set:   3%|▎         | 4/120 [02:53<1:18:48, 40.76s/it]"
          ]
        },
        {
          "output_type": "stream",
          "name": "stdout",
          "text": [
            "Video 2bxKkUgcqpk already processed. Skipping.\n"
          ]
        },
        {
          "output_type": "stream",
          "name": "stderr",
          "text": [
            "\rTrain Set:   4%|▍         | 5/120 [03:00<54:39, 28.51s/it]  "
          ]
        },
        {
          "output_type": "stream",
          "name": "stdout",
          "text": [
            "Video 55Ihr6uVIDA already processed. Skipping.\n"
          ]
        },
        {
          "output_type": "stream",
          "name": "stderr",
          "text": [
            "\rTrain Set:   5%|▌         | 6/120 [03:19<48:03, 25.29s/it]"
          ]
        },
        {
          "output_type": "stream",
          "name": "stdout",
          "text": [
            "Video 2PpxiG0WU18 already processed. Skipping.\n"
          ]
        },
        {
          "output_type": "stream",
          "name": "stderr",
          "text": [
            "\rTrain Set:   6%|▌         | 7/120 [03:23<34:19, 18.22s/it]"
          ]
        },
        {
          "output_type": "stream",
          "name": "stdout",
          "text": [
            "Video 26V9UzqSguo already processed. Skipping.\n"
          ]
        },
        {
          "output_type": "stream",
          "name": "stderr",
          "text": [
            "\rTrain Set:   7%|▋         | 8/120 [03:33<29:19, 15.71s/it]"
          ]
        },
        {
          "output_type": "stream",
          "name": "stdout",
          "text": [
            "Video 2fwni_Kjf2M already processed. Skipping.\n"
          ]
        },
        {
          "output_type": "stream",
          "name": "stderr",
          "text": [
            "\rTrain Set:   8%|▊         | 9/120 [03:34<20:09, 10.90s/it]"
          ]
        },
        {
          "output_type": "stream",
          "name": "stdout",
          "text": [
            "Video 0f39OWEqJ24 already processed. Skipping.\n"
          ]
        },
        {
          "output_type": "stream",
          "name": "stderr",
          "text": [
            "\rTrain Set:   8%|▊         | 10/120 [03:35<14:31,  7.92s/it]"
          ]
        },
        {
          "output_type": "stream",
          "name": "stdout",
          "text": [
            "Video 2XeFK-DTSZk already processed. Skipping.\n"
          ]
        },
        {
          "output_type": "stream",
          "name": "stderr",
          "text": [
            "\rTrain Set:   9%|▉         | 11/120 [03:42<13:50,  7.62s/it]"
          ]
        },
        {
          "output_type": "stream",
          "name": "stdout",
          "text": [
            "Video 9Y_l9NsnYE0 already processed. Skipping.\n"
          ]
        },
        {
          "output_type": "stream",
          "name": "stderr",
          "text": [
            "\rTrain Set:  10%|█         | 12/120 [03:42<09:40,  5.37s/it]"
          ]
        },
        {
          "output_type": "stream",
          "name": "stdout",
          "text": [
            "Video 914yZXz-iRs already processed. Skipping.\n"
          ]
        },
        {
          "output_type": "stream",
          "name": "stderr",
          "text": [
            "\rTrain Set:  11%|█         | 13/120 [03:42<06:49,  3.82s/it]"
          ]
        },
        {
          "output_type": "stream",
          "name": "stdout",
          "text": [
            "Video 9mLYmkonWZQ already processed. Skipping.\n"
          ]
        },
        {
          "output_type": "stream",
          "name": "stderr",
          "text": [
            "\rTrain Set:  12%|█▏        | 14/120 [03:43<04:50,  2.74s/it]"
          ]
        },
        {
          "output_type": "stream",
          "name": "stdout",
          "text": [
            "Video 6d5u6FHvz7Q already processed. Skipping.\n"
          ]
        },
        {
          "output_type": "stream",
          "name": "stderr",
          "text": [
            "\rTrain Set:  12%|█▎        | 15/120 [03:43<03:31,  2.02s/it]"
          ]
        },
        {
          "output_type": "stream",
          "name": "stdout",
          "text": [
            "Video 5YPjcdLbs5g already processed. Skipping.\n"
          ]
        },
        {
          "output_type": "stream",
          "name": "stderr",
          "text": [
            "\rTrain Set:  13%|█▎        | 16/120 [03:43<02:37,  1.51s/it]"
          ]
        },
        {
          "output_type": "stream",
          "name": "stdout",
          "text": [
            "Video 5BDj0ow5hnA already processed. Skipping.\n"
          ]
        },
        {
          "output_type": "stream",
          "name": "stderr",
          "text": [
            "\rTrain Set:  14%|█▍        | 17/120 [03:44<01:56,  1.14s/it]"
          ]
        },
        {
          "output_type": "stream",
          "name": "stdout",
          "text": [
            "Video 9bK05eBt1GM already processed. Skipping.\n"
          ]
        },
        {
          "output_type": "stream",
          "name": "stderr",
          "text": [
            "\rTrain Set:  15%|█▌        | 18/120 [03:44<01:27,  1.16it/s]"
          ]
        },
        {
          "output_type": "stream",
          "name": "stdout",
          "text": [
            "Video -5KQ66BBWC4 already processed. Skipping.\n"
          ]
        },
        {
          "output_type": "stream",
          "name": "stderr",
          "text": [
            "\rTrain Set:  16%|█▌        | 19/120 [03:45<01:36,  1.05it/s]"
          ]
        },
        {
          "output_type": "stream",
          "name": "stdout",
          "text": [
            "Video 9F2voT6QWvQ already processed. Skipping.\n",
            " Extracting faces from video 8aMv-ZGD4ic\n"
          ]
        },
        {
          "output_type": "stream",
          "name": "stderr",
          "text": [
            "\rTrain Set:  17%|█▋        | 20/120 [36:43<16:31:11, 594.72s/it]"
          ]
        },
        {
          "output_type": "stream",
          "name": "stdout",
          "text": [
            " Extracting faces from video 7nHkh4sP5Ks\n"
          ]
        },
        {
          "output_type": "stream",
          "name": "stderr",
          "text": [
            "\rTrain Set:  18%|█▊        | 21/120 [1:06:57<26:24:50, 960.51s/it]"
          ]
        },
        {
          "output_type": "stream",
          "name": "stdout",
          "text": [
            " Extracting faces from video BY3sZmvUp-0\n"
          ]
        },
        {
          "output_type": "stream",
          "name": "stderr",
          "text": [
            "\rTrain Set:  18%|█▊        | 22/120 [1:34:49<31:57:45, 1174.14s/it]"
          ]
        },
        {
          "output_type": "stream",
          "name": "stdout",
          "text": [
            " Extracting faces from video CrlfWnsS7ac\n"
          ]
        },
        {
          "output_type": "stream",
          "name": "stderr",
          "text": [
            "\rTrain Set:  19%|█▉        | 23/120 [2:31:49<49:47:51, 1848.16s/it]"
          ]
        },
        {
          "output_type": "stream",
          "name": "stdout",
          "text": [
            " Extracting faces from video cWYJHb25EVs\n"
          ]
        },
        {
          "output_type": "stream",
          "name": "stderr",
          "text": [
            "\rTrain Set:  20%|██        | 24/120 [2:52:26<44:23:31, 1664.70s/it]"
          ]
        },
        {
          "output_type": "stream",
          "name": "stdout",
          "text": [
            " Extracting faces from video B1MAUxpKaV8\n"
          ]
        },
        {
          "output_type": "stream",
          "name": "stderr",
          "text": [
            "\rTrain Set:  21%|██        | 25/120 [4:11:31<68:19:11, 2588.96s/it]"
          ]
        },
        {
          "output_type": "stream",
          "name": "stdout",
          "text": [
            " Extracting faces from video b5pRYl_djbs\n"
          ]
        },
        {
          "output_type": "stream",
          "name": "stderr",
          "text": [
            "\rTrain Set:  22%|██▏       | 26/120 [5:28:55<83:42:02, 3205.56s/it]"
          ]
        },
        {
          "output_type": "stream",
          "name": "stdout",
          "text": [
            " Extracting faces from video bhlFavrh7WU\n"
          ]
        },
        {
          "output_type": "stream",
          "name": "stderr",
          "text": [
            "\rTrain Set:  22%|██▎       | 27/120 [5:41:16<63:42:13, 2465.95s/it]"
          ]
        },
        {
          "output_type": "stream",
          "name": "stdout",
          "text": [
            " Extracting faces from video cKA-qeZuH_w\n"
          ]
        },
        {
          "output_type": "stream",
          "name": "stderr",
          "text": [
            "\rTrain Set:  23%|██▎       | 28/120 [6:03:37<54:23:51, 2128.60s/it]"
          ]
        },
        {
          "output_type": "stream",
          "name": "stdout",
          "text": [
            " Extracting faces from video AN07xQokfiE\n"
          ]
        },
        {
          "output_type": "stream",
          "name": "stderr",
          "text": [
            "\rTrain Set:  24%|██▍       | 29/120 [6:43:28<55:47:43, 2207.29s/it]"
          ]
        },
        {
          "output_type": "stream",
          "name": "stdout",
          "text": [
            " Extracting faces from video _a9SWtcaNj8\n"
          ]
        },
        {
          "output_type": "stream",
          "name": "stderr",
          "text": [
            "\rTrain Set:  25%|██▌       | 30/120 [7:12:41<51:46:14, 2070.83s/it]"
          ]
        },
        {
          "output_type": "stream",
          "name": "stdout",
          "text": [
            " Extracting faces from video AYebXQ8eUkM\n"
          ]
        }
      ]
    },
    {
      "cell_type": "markdown",
      "source": [
        "### Analyse if the extracted data is accurate"
      ],
      "metadata": {
        "id": "TjjDPaiLYVWH"
      }
    },
    {
      "cell_type": "code",
      "source": [
        "def count_images_in_video_subfolder(video_id, folder_path):\n",
        "    subfolder = os.path.join(folder_path, video_id)\n",
        "    if not os.path.exists(subfolder):\n",
        "        return 0\n",
        "    pattern = os.path.join(subfolder, \"*.jpg\")\n",
        "    return len(glob.glob(pattern))\n",
        "\n",
        "folder = f\"{BASE_DIR}/data/faces/train/speaking\"  # or test/not_speaking, etc.\n",
        "video_id = \"2PpxiG0WU18\"\n",
        "\n",
        "count = count_images_in_video_subfolder(video_id, folder)\n",
        "print(f\"Video '{video_id}' has {count} image(s) in '{folder}'\")"
      ],
      "metadata": {
        "colab": {
          "base_uri": "https://localhost:8080/"
        },
        "id": "5yd2P5tc2wHM",
        "outputId": "b194fc97-01d0-4803-b011-ea0d91a6c919"
      },
      "execution_count": 7,
      "outputs": [
        {
          "output_type": "stream",
          "name": "stdout",
          "text": [
            "Video '2PpxiG0WU18' has 3538 image(s) in '/content/drive/MyDrive/aifarm/centerstage/data/faces/train/speaking'\n"
          ]
        }
      ]
    },
    {
      "cell_type": "code",
      "source": [
        "folder = f\"{BASE_DIR}/data/faces/train/not_speaking\"  # or test/not_speaking, etc.\n",
        "video_id = \"2PpxiG0WU18\"\n",
        "\n",
        "count = count_images_in_video_subfolder(video_id, folder)\n",
        "print(f\"Video '{video_id}' has {count} image(s) in '{folder}'\")"
      ],
      "metadata": {
        "colab": {
          "base_uri": "https://localhost:8080/"
        },
        "id": "IBzwVZVc7nvf",
        "outputId": "40a5b4fb-2b7b-473c-971b-1286f5f2d335"
      },
      "execution_count": 9,
      "outputs": [
        {
          "output_type": "stream",
          "name": "stdout",
          "text": [
            "Video '2PpxiG0WU18' has 18023 image(s) in '/content/drive/MyDrive/aifarm/centerstage/data/faces/train/not_speaking'\n"
          ]
        }
      ]
    },
    {
      "cell_type": "code",
      "source": [
        "filtered_df[(filtered_df['binary_label'] == 1) & (filtered_df['video_id'] == '2PpxiG0WU18')].shape"
      ],
      "metadata": {
        "colab": {
          "base_uri": "https://localhost:8080/"
        },
        "id": "BJTDoTC-67ut",
        "outputId": "3f03de82-20bd-4d46-d966-9380248d92f5"
      },
      "execution_count": 8,
      "outputs": [
        {
          "output_type": "execute_result",
          "data": {
            "text/plain": [
              "(3710, 10)"
            ]
          },
          "metadata": {},
          "execution_count": 8
        }
      ]
    },
    {
      "cell_type": "code",
      "source": [
        "filtered_df[(filtered_df['binary_label'] == 0) & (filtered_df['video_id'] == '2PpxiG0WU18')].shape"
      ],
      "metadata": {
        "colab": {
          "base_uri": "https://localhost:8080/"
        },
        "id": "bXyuYAPH7vZR",
        "outputId": "1f8f755a-4c26-479a-d698-44e84712324f"
      },
      "execution_count": 10,
      "outputs": [
        {
          "output_type": "execute_result",
          "data": {
            "text/plain": [
              "(19148, 10)"
            ]
          },
          "metadata": {},
          "execution_count": 10
        }
      ]
    },
    {
      "cell_type": "code",
      "source": [
        "import cv2\n",
        "\n",
        "cap = cv2.VideoCapture(f\"{BASE_DIR}/data/videos/7nHkh4sP5Ks.mkv\")\n",
        "fps = cap.get(cv2.CAP_PROP_FPS)\n",
        "print(\"FPS:\", fps)\n",
        "cap.release()"
      ],
      "metadata": {
        "id": "fl2kuaEd6cHV"
      },
      "execution_count": null,
      "outputs": []
    }
  ],
  "metadata": {
    "colab": {
      "provenance": [],
      "toc_visible": true
    },
    "kernelspec": {
      "display_name": "Python 3",
      "name": "python3"
    },
    "language_info": {
      "name": "python"
    }
  },
  "nbformat": 4,
  "nbformat_minor": 0
}